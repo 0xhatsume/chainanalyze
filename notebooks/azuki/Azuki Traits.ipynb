{
 "cells": [
  {
   "cell_type": "markdown",
   "id": "aa75003f",
   "metadata": {},
   "source": [
    "## Libs"
   ]
  },
  {
   "cell_type": "code",
   "execution_count": 1,
   "id": "e53a8172",
   "metadata": {},
   "outputs": [],
   "source": [
    "import requests"
   ]
  },
  {
   "cell_type": "code",
   "execution_count": 2,
   "id": "b5be53eb",
   "metadata": {},
   "outputs": [],
   "source": [
    "import numpy as np\n",
    "import pandas as pd"
   ]
  },
  {
   "cell_type": "code",
   "execution_count": 14,
   "id": "93ca8956",
   "metadata": {},
   "outputs": [],
   "source": [
    "from tqdm.notebook import tqdm, trange"
   ]
  },
  {
   "cell_type": "markdown",
   "id": "c17f18be",
   "metadata": {},
   "source": [
    "## Inits"
   ]
  },
  {
   "cell_type": "code",
   "execution_count": 8,
   "id": "84708093",
   "metadata": {},
   "outputs": [],
   "source": [
    "baseURL = \"https://ikzttp.mypinata.cloud/ipfs/QmeBWSnYPEnUimvpPfNHuvgcK9wFH9Sa6cZ4KDfgkfJJis/\""
   ]
  },
  {
   "cell_type": "markdown",
   "id": "ab984f7a",
   "metadata": {},
   "source": [
    "## Data"
   ]
  },
  {
   "cell_type": "markdown",
   "id": "9fa469bb",
   "metadata": {
    "heading_collapsed": true
   },
   "source": [
    "### Test Ping"
   ]
  },
  {
   "cell_type": "code",
   "execution_count": 19,
   "id": "3c080d7d",
   "metadata": {
    "hidden": true
   },
   "outputs": [
    {
     "data": {
      "text/plain": [
       "{'name': 'Azuki #1',\n",
       " 'image': 'https://ikzttp.mypinata.cloud/ipfs/QmYDvPAXtiJg7s8JdRBSLWdgSphQdac8j1YuQNNxcGE1hg/1.png',\n",
       " 'attributes': [{'trait_type': 'Type', 'value': 'Human'},\n",
       "  {'trait_type': 'Hair', 'value': 'Pink Hairband'},\n",
       "  {'trait_type': 'Clothing', 'value': 'White Qipao with Fur'},\n",
       "  {'trait_type': 'Eyes', 'value': 'Daydreaming'},\n",
       "  {'trait_type': 'Mouth', 'value': 'Lipstick'},\n",
       "  {'trait_type': 'Offhand', 'value': 'Gloves'},\n",
       "  {'trait_type': 'Background', 'value': 'Off White D'}]}"
      ]
     },
     "execution_count": 19,
     "metadata": {},
     "output_type": "execute_result"
    }
   ],
   "source": [
    "r = requests.get(baseURL + \"1\").json()\n",
    "r"
   ]
  },
  {
   "cell_type": "markdown",
   "id": "8c36c2b8",
   "metadata": {},
   "source": [
    "### Scrape"
   ]
  },
  {
   "cell_type": "code",
   "execution_count": 74,
   "id": "37952e82",
   "metadata": {},
   "outputs": [
    {
     "data": {
      "application/vnd.jupyter.widget-view+json": {
       "model_id": "b6949aa731c14c99bfa19629b9bac156",
       "version_major": 2,
       "version_minor": 0
      },
      "text/plain": [
       "  0%|          | 0/9999 [00:00<?, ?it/s]"
      ]
     },
     "metadata": {},
     "output_type": "display_data"
    }
   ],
   "source": [
    "df = pd.DataFrame()\n",
    "for i in trange(9999):\n",
    "    r = requests.get(baseURL + str(i))\n",
    "    if (r.status_code==200):\n",
    "        df = df.append(pd.DataFrame([r.json()]))"
   ]
  },
  {
   "cell_type": "code",
   "execution_count": 75,
   "id": "969232a9",
   "metadata": {},
   "outputs": [],
   "source": [
    "# pickle\n",
    "df.to_pickle(\"./data/raw/azuki_raw.pkl\")"
   ]
  },
  {
   "cell_type": "markdown",
   "id": "0add4f97",
   "metadata": {},
   "source": [
    "### Transform"
   ]
  },
  {
   "cell_type": "code",
   "execution_count": 89,
   "id": "9ccf1577",
   "metadata": {},
   "outputs": [
    {
     "data": {
      "text/html": [
       "<div>\n",
       "<style scoped>\n",
       "    .dataframe tbody tr th:only-of-type {\n",
       "        vertical-align: middle;\n",
       "    }\n",
       "\n",
       "    .dataframe tbody tr th {\n",
       "        vertical-align: top;\n",
       "    }\n",
       "\n",
       "    .dataframe thead th {\n",
       "        text-align: right;\n",
       "    }\n",
       "</style>\n",
       "<table border=\"1\" class=\"dataframe\">\n",
       "  <thead>\n",
       "    <tr style=\"text-align: right;\">\n",
       "      <th></th>\n",
       "      <th>name</th>\n",
       "      <th>image</th>\n",
       "      <th>attributes</th>\n",
       "      <th>id</th>\n",
       "    </tr>\n",
       "  </thead>\n",
       "  <tbody>\n",
       "    <tr>\n",
       "      <th>0</th>\n",
       "      <td>Azuki #0</td>\n",
       "      <td>https://ikzttp.mypinata.cloud/ipfs/QmYDvPAXtiJ...</td>\n",
       "      <td>[{'trait_type': 'Type', 'value': 'Human'}, {'t...</td>\n",
       "      <td>0</td>\n",
       "    </tr>\n",
       "    <tr>\n",
       "      <th>1</th>\n",
       "      <td>Azuki #1</td>\n",
       "      <td>https://ikzttp.mypinata.cloud/ipfs/QmYDvPAXtiJ...</td>\n",
       "      <td>[{'trait_type': 'Type', 'value': 'Human'}, {'t...</td>\n",
       "      <td>1</td>\n",
       "    </tr>\n",
       "    <tr>\n",
       "      <th>2</th>\n",
       "      <td>Azuki #2</td>\n",
       "      <td>https://ikzttp.mypinata.cloud/ipfs/QmYDvPAXtiJ...</td>\n",
       "      <td>[{'trait_type': 'Type', 'value': 'Human'}, {'t...</td>\n",
       "      <td>2</td>\n",
       "    </tr>\n",
       "    <tr>\n",
       "      <th>3</th>\n",
       "      <td>Azuki #3</td>\n",
       "      <td>https://ikzttp.mypinata.cloud/ipfs/QmYDvPAXtiJ...</td>\n",
       "      <td>[{'trait_type': 'Type', 'value': 'Human'}, {'t...</td>\n",
       "      <td>3</td>\n",
       "    </tr>\n",
       "    <tr>\n",
       "      <th>4</th>\n",
       "      <td>Azuki #4</td>\n",
       "      <td>https://ikzttp.mypinata.cloud/ipfs/QmYDvPAXtiJ...</td>\n",
       "      <td>[{'trait_type': 'Type', 'value': 'Human'}, {'t...</td>\n",
       "      <td>4</td>\n",
       "    </tr>\n",
       "  </tbody>\n",
       "</table>\n",
       "</div>"
      ],
      "text/plain": [
       "       name                                              image  \\\n",
       "0  Azuki #0  https://ikzttp.mypinata.cloud/ipfs/QmYDvPAXtiJ...   \n",
       "1  Azuki #1  https://ikzttp.mypinata.cloud/ipfs/QmYDvPAXtiJ...   \n",
       "2  Azuki #2  https://ikzttp.mypinata.cloud/ipfs/QmYDvPAXtiJ...   \n",
       "3  Azuki #3  https://ikzttp.mypinata.cloud/ipfs/QmYDvPAXtiJ...   \n",
       "4  Azuki #4  https://ikzttp.mypinata.cloud/ipfs/QmYDvPAXtiJ...   \n",
       "\n",
       "                                          attributes id  \n",
       "0  [{'trait_type': 'Type', 'value': 'Human'}, {'t...  0  \n",
       "1  [{'trait_type': 'Type', 'value': 'Human'}, {'t...  1  \n",
       "2  [{'trait_type': 'Type', 'value': 'Human'}, {'t...  2  \n",
       "3  [{'trait_type': 'Type', 'value': 'Human'}, {'t...  3  \n",
       "4  [{'trait_type': 'Type', 'value': 'Human'}, {'t...  4  "
      ]
     },
     "execution_count": 89,
     "metadata": {},
     "output_type": "execute_result"
    }
   ],
   "source": []
  },
  {
   "cell_type": "code",
   "execution_count": 69,
   "id": "0f01e9bf",
   "metadata": {},
   "outputs": [],
   "source": [
    "df.reset_index(drop=True,inplace=True)"
   ]
  },
  {
   "cell_type": "code",
   "execution_count": 126,
   "id": "3c460df5",
   "metadata": {},
   "outputs": [],
   "source": [
    "def trait(x, trait_type):\n",
    "    for r in x:\n",
    "        if r[\"trait_type\"]==trait_type:\n",
    "            return r[\"value\"]            "
   ]
  },
  {
   "cell_type": "code",
   "execution_count": 43,
   "id": "06f16381",
   "metadata": {},
   "outputs": [],
   "source": [
    "# convert attributes column to key-value\n",
    "df[\"traits\"] = df[\"attributes\"].apply(lambda x: [{r[\"trait_type\"]:r[\"value\"]} for r in x])"
   ]
  },
  {
   "cell_type": "code",
   "execution_count": 133,
   "id": "e972181a",
   "metadata": {},
   "outputs": [],
   "source": [
    "# so not all entries have all the traits so will be doing a parser for each trait type\n",
    "\n",
    "traits = [\"Type\", \"Face\", \"Hair\", \"Headgear\", \"Eyes\", \"Ear\", \n",
    "         \"Mouth\", \"Neck\", \"Clothing\", \"Offhand\", \"Background\", \"Special\"]\n",
    "\n",
    "for t in traits:\n",
    "    df[t]= df[\"attributes\"].apply(lambda x: trait(x, t))"
   ]
  },
  {
   "cell_type": "code",
   "execution_count": 136,
   "id": "a875e9e2",
   "metadata": {},
   "outputs": [
    {
     "name": "stdout",
     "output_type": "stream",
     "text": [
      "<class 'pandas.core.frame.DataFrame'>\n",
      "RangeIndex: 9999 entries, 0 to 9998\n",
      "Data columns (total 16 columns):\n",
      " #   Column      Non-Null Count  Dtype \n",
      "---  ------      --------------  ----- \n",
      " 0   name        9999 non-null   object\n",
      " 1   image       9999 non-null   object\n",
      " 2   attributes  9999 non-null   object\n",
      " 3   id          9999 non-null   object\n",
      " 4   Type        9999 non-null   object\n",
      " 5   Face        3209 non-null   object\n",
      " 6   Hair        9991 non-null   object\n",
      " 7   Headgear    3487 non-null   object\n",
      " 8   Eyes        9999 non-null   object\n",
      " 9   Ear         1819 non-null   object\n",
      " 10  Mouth       9999 non-null   object\n",
      " 11  Neck        2254 non-null   object\n",
      " 12  Clothing    9994 non-null   object\n",
      " 13  Offhand     6834 non-null   object\n",
      " 14  Background  9999 non-null   object\n",
      " 15  Special     629 non-null    object\n",
      "dtypes: object(16)\n",
      "memory usage: 1.2+ MB\n"
     ]
    }
   ],
   "source": [
    "df.info() # some nulls"
   ]
  },
  {
   "cell_type": "code",
   "execution_count": 139,
   "id": "012bd3bd",
   "metadata": {},
   "outputs": [],
   "source": [
    "# get a required columns and save to csv\n",
    "df[[\"id\", \"name\", \"image\"] + traits].to_csv(\"./data/final/azuki.csv\", index=False)"
   ]
  },
  {
   "cell_type": "code",
   "execution_count": 140,
   "id": "c5a07259",
   "metadata": {},
   "outputs": [],
   "source": [
    "# save a pickle\n",
    "df[[\"id\", \"name\", \"image\", \"attributes\"] + traits].to_pickle(\"./data/interim/azuki.pkl\")"
   ]
  }
 ],
 "metadata": {
  "kernelspec": {
   "display_name": "Python 3 (ipykernel)",
   "language": "python",
   "name": "python3"
  },
  "language_info": {
   "codemirror_mode": {
    "name": "ipython",
    "version": 3
   },
   "file_extension": ".py",
   "mimetype": "text/x-python",
   "name": "python",
   "nbconvert_exporter": "python",
   "pygments_lexer": "ipython3",
   "version": "3.9.7"
  }
 },
 "nbformat": 4,
 "nbformat_minor": 5
}
