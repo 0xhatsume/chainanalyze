{
 "cells": [
  {
   "cell_type": "markdown",
   "id": "58b8df3b",
   "metadata": {},
   "source": [
    "## Addresses"
   ]
  },
  {
   "cell_type": "markdown",
   "id": "10a5a284",
   "metadata": {},
   "source": [
    "**ERC20**  \n",
    "CRA: 0xa32608e873f9ddef944b24798db69d80bbb4d1ed  \n",
    "TUS: 0xf693248f96fe03422fea95ac0afbbbc4a8fdd172  \n",
    "  \n",
    "**Game Contracts**  \n",
    "Crabada: 0x1b7966315ef0259de890f38f1bdb95acc03cacdd : https://snowtrace.io/address/0x1b7966315ef0259de890f38f1bdb95acc03cacdd    \n",
    "Crabada Marketplace: 0x7E8DEef5bb861cF158d8BdaAa1c31f7B49922F49  \n",
    "Crabada Game: 0x82a85407BD612f52577909F4A58bfC6873f14DA8  "
   ]
  },
  {
   "cell_type": "markdown",
   "id": "eb723274",
   "metadata": {},
   "source": [
    "## Notes"
   ]
  },
  {
   "cell_type": "markdown",
   "id": "b6cd4810",
   "metadata": {},
   "source": [
    "- crabada resources: https://github.com/crabada-resources  \n",
    "- [API docs](https://docs.crabada.com/resources/api)\n",
    "- API endpoint: https://api.crabada.com/public/crabada/info/<crabID>\n",
    "- [API for Crab Search] (https://api.crabada.com/public/crabada/selling?limit=2000&stage=1&orderBy=price&order=asc)\n",
    "- SnowTrace: https://snowtrace.io/address/0x1b7966315ef0259de890f38f1bdb95acc03cacdd\n",
    "\n",
    "**Questions**  \n",
    "- top holders queries\n",
    "- function signatures\n",
    "    \n",
    "**Some Refs**\n",
    "- [4byte directory](https://www.4byte.directory/)\n",
    "- [common signatures](https://github.com/ethereum-lists/4bytes/tree/master/signatures)"
   ]
  },
  {
   "cell_type": "markdown",
   "id": "6f933195",
   "metadata": {},
   "source": [
    "## Libraries"
   ]
  },
  {
   "cell_type": "code",
   "execution_count": 1,
   "id": "d69930e2",
   "metadata": {},
   "outputs": [],
   "source": [
    "from web3 import Web3\n",
    "from web3.middleware import geth_poa_middleware"
   ]
  },
  {
   "cell_type": "code",
   "execution_count": 42,
   "id": "f7b3e056",
   "metadata": {},
   "outputs": [],
   "source": [
    "import numpy as np\n",
    "import pandas as pd\n",
    "from scipy import stats"
   ]
  },
  {
   "cell_type": "code",
   "execution_count": 76,
   "id": "cf794c0f",
   "metadata": {},
   "outputs": [],
   "source": [
    "import requests"
   ]
  },
  {
   "cell_type": "code",
   "execution_count": 12,
   "id": "8b1ad1bc",
   "metadata": {},
   "outputs": [],
   "source": [
    "import plotly.express as px"
   ]
  },
  {
   "cell_type": "markdown",
   "id": "9ac49451",
   "metadata": {},
   "source": [
    "## Inits"
   ]
  },
  {
   "cell_type": "markdown",
   "id": "002ac426",
   "metadata": {
    "heading_collapsed": true
   },
   "source": [
    "### Web3"
   ]
  },
  {
   "cell_type": "code",
   "execution_count": 3,
   "id": "e9a1b6ed",
   "metadata": {
    "hidden": true
   },
   "outputs": [
    {
     "data": {
      "text/plain": [
       "True"
      ]
     },
     "execution_count": 3,
     "metadata": {},
     "output_type": "execute_result"
    }
   ],
   "source": [
    "w3 = Web3(Web3.HTTPProvider(\"https://api.avax.network/ext/bc/C/rpc\"))\n",
    "w3.middleware_onion.inject(geth_poa_middleware, layer=0)\n",
    "w3.isConnected()"
   ]
  },
  {
   "cell_type": "markdown",
   "id": "77376188",
   "metadata": {
    "heading_collapsed": true
   },
   "source": [
    "### Addresses"
   ]
  },
  {
   "cell_type": "code",
   "execution_count": 4,
   "id": "a818e393",
   "metadata": {
    "hidden": true
   },
   "outputs": [],
   "source": [
    "cra = w3.toChecksumAddress(\"0xa32608e873f9ddef944b24798db69d80bbb4d1ed\")\n",
    "tus = w3.toChecksumAddress(\"0xf693248f96fe03422fea95ac0afbbbc4a8fdd172\")\n",
    "crabada=w3.toChecksumAddress(\"0x1b7966315ef0259de890f38f1bdb95acc03cacdd\")\n",
    "marketplace=w3.toChecksumAddress(\"0x7E8DEef5bb861cF158d8BdaAa1c31f7B49922F49\")\n",
    "game=w3.toChecksumAddress(\"0x82a85407BD612f52577909F4A58bfC6873f14DA8\")"
   ]
  },
  {
   "cell_type": "markdown",
   "id": "768e2f8d",
   "metadata": {},
   "source": [
    "### Data"
   ]
  },
  {
   "cell_type": "code",
   "execution_count": 5,
   "id": "ec84dbc8",
   "metadata": {},
   "outputs": [],
   "source": [
    "owners_df = pd.read_pickle(\"./data/raw/TokenToOwner.pkl\")"
   ]
  },
  {
   "cell_type": "code",
   "execution_count": 6,
   "id": "3c4f266d",
   "metadata": {},
   "outputs": [
    {
     "data": {
      "text/html": [
       "<div>\n",
       "<style scoped>\n",
       "    .dataframe tbody tr th:only-of-type {\n",
       "        vertical-align: middle;\n",
       "    }\n",
       "\n",
       "    .dataframe tbody tr th {\n",
       "        vertical-align: top;\n",
       "    }\n",
       "\n",
       "    .dataframe thead th {\n",
       "        text-align: right;\n",
       "    }\n",
       "</style>\n",
       "<table border=\"1\" class=\"dataframe\">\n",
       "  <thead>\n",
       "    <tr style=\"text-align: right;\">\n",
       "      <th></th>\n",
       "      <th>owner</th>\n",
       "    </tr>\n",
       "  </thead>\n",
       "  <tbody>\n",
       "    <tr>\n",
       "      <th>1</th>\n",
       "      <td>0xb95afB5318E340F3aFDF2ddE2D9c3Fc041C6aE2d</td>\n",
       "    </tr>\n",
       "    <tr>\n",
       "      <th>2</th>\n",
       "      <td>0xb95afB5318E340F3aFDF2ddE2D9c3Fc041C6aE2d</td>\n",
       "    </tr>\n",
       "    <tr>\n",
       "      <th>3</th>\n",
       "      <td>0xb95afB5318E340F3aFDF2ddE2D9c3Fc041C6aE2d</td>\n",
       "    </tr>\n",
       "    <tr>\n",
       "      <th>4</th>\n",
       "      <td>0xb95afB5318E340F3aFDF2ddE2D9c3Fc041C6aE2d</td>\n",
       "    </tr>\n",
       "    <tr>\n",
       "      <th>5</th>\n",
       "      <td>0xb95afB5318E340F3aFDF2ddE2D9c3Fc041C6aE2d</td>\n",
       "    </tr>\n",
       "  </tbody>\n",
       "</table>\n",
       "</div>"
      ],
      "text/plain": [
       "                                        owner\n",
       "1  0xb95afB5318E340F3aFDF2ddE2D9c3Fc041C6aE2d\n",
       "2  0xb95afB5318E340F3aFDF2ddE2D9c3Fc041C6aE2d\n",
       "3  0xb95afB5318E340F3aFDF2ddE2D9c3Fc041C6aE2d\n",
       "4  0xb95afB5318E340F3aFDF2ddE2D9c3Fc041C6aE2d\n",
       "5  0xb95afB5318E340F3aFDF2ddE2D9c3Fc041C6aE2d"
      ]
     },
     "execution_count": 6,
     "metadata": {},
     "output_type": "execute_result"
    }
   ],
   "source": [
    "owners_df.head()"
   ]
  },
  {
   "cell_type": "code",
   "execution_count": 7,
   "id": "026b275e",
   "metadata": {},
   "outputs": [],
   "source": [
    "crabs_df = pd.read_pickle(\"./data/raw/tokenMeta.pkl\")"
   ]
  },
  {
   "cell_type": "code",
   "execution_count": 8,
   "id": "ad055bd6",
   "metadata": {
    "scrolled": true
   },
   "outputs": [
    {
     "data": {
      "text/html": [
       "<div>\n",
       "<style scoped>\n",
       "    .dataframe tbody tr th:only-of-type {\n",
       "        vertical-align: middle;\n",
       "    }\n",
       "\n",
       "    .dataframe tbody tr th {\n",
       "        vertical-align: top;\n",
       "    }\n",
       "\n",
       "    .dataframe thead th {\n",
       "        text-align: right;\n",
       "    }\n",
       "</style>\n",
       "<table border=\"1\" class=\"dataframe\">\n",
       "  <thead>\n",
       "    <tr style=\"text-align: right;\">\n",
       "      <th></th>\n",
       "      <th>data</th>\n",
       "      <th>attributes</th>\n",
       "      <th>description</th>\n",
       "      <th>external_url</th>\n",
       "      <th>image</th>\n",
       "      <th>name</th>\n",
       "      <th>traits</th>\n",
       "      <th>birthday</th>\n",
       "      <th>class</th>\n",
       "      <th>pure</th>\n",
       "      <th>legend</th>\n",
       "      <th>origin</th>\n",
       "      <th>genesis</th>\n",
       "      <th>hp</th>\n",
       "      <th>speed</th>\n",
       "      <th>damage</th>\n",
       "      <th>armor</th>\n",
       "      <th>critical</th>\n",
       "    </tr>\n",
       "  </thead>\n",
       "  <tbody>\n",
       "    <tr>\n",
       "      <th>1</th>\n",
       "      <td>{'description': '90639254423131116107623161788...</td>\n",
       "      <td>[{'display_type': 'date', 'trait_type': 'birth...</td>\n",
       "      <td>9063925442313111610762316178811172860734019784...</td>\n",
       "      <td>https://marketplace.crabada.com/crabada/1</td>\n",
       "      <td>https://pro-crabada-photos.s3.ap-southeast-1.a...</td>\n",
       "      <td>Crabada 1</td>\n",
       "      <td>{'birthday': 1635777816, 'class': 'SURGE', 'pu...</td>\n",
       "      <td>1.635778e+09</td>\n",
       "      <td>SURGE</td>\n",
       "      <td>6.0</td>\n",
       "      <td>0.0</td>\n",
       "      <td>1.0</td>\n",
       "      <td>1.0</td>\n",
       "      <td>150.0</td>\n",
       "      <td>26.0</td>\n",
       "      <td>50.0</td>\n",
       "      <td>37.0</td>\n",
       "      <td>39.0</td>\n",
       "    </tr>\n",
       "    <tr>\n",
       "      <th>2</th>\n",
       "      <td>{'description': '90815939129608954540581491538...</td>\n",
       "      <td>[{'display_type': 'date', 'trait_type': 'birth...</td>\n",
       "      <td>9081593912960895454058149153818602920431322016...</td>\n",
       "      <td>https://marketplace.crabada.com/crabada/2</td>\n",
       "      <td>https://pro-crabada-photos.s3.ap-southeast-1.a...</td>\n",
       "      <td>Crabada 2</td>\n",
       "      <td>{'birthday': 1635777816, 'class': 'SURGE', 'pu...</td>\n",
       "      <td>1.635778e+09</td>\n",
       "      <td>SURGE</td>\n",
       "      <td>6.0</td>\n",
       "      <td>0.0</td>\n",
       "      <td>1.0</td>\n",
       "      <td>1.0</td>\n",
       "      <td>150.0</td>\n",
       "      <td>26.0</td>\n",
       "      <td>50.0</td>\n",
       "      <td>37.0</td>\n",
       "      <td>39.0</td>\n",
       "    </tr>\n",
       "    <tr>\n",
       "      <th>3</th>\n",
       "      <td>{'description': '90992623836086792973539821288...</td>\n",
       "      <td>[{'display_type': 'date', 'trait_type': 'birth...</td>\n",
       "      <td>9099262383608679297353982128826032980128624248...</td>\n",
       "      <td>https://marketplace.crabada.com/crabada/3</td>\n",
       "      <td>https://pro-crabada-photos.s3.ap-southeast-1.a...</td>\n",
       "      <td>Crabada 3</td>\n",
       "      <td>{'birthday': 1635777816, 'class': 'SURGE', 'pu...</td>\n",
       "      <td>1.635778e+09</td>\n",
       "      <td>SURGE</td>\n",
       "      <td>6.0</td>\n",
       "      <td>0.0</td>\n",
       "      <td>1.0</td>\n",
       "      <td>1.0</td>\n",
       "      <td>150.0</td>\n",
       "      <td>26.0</td>\n",
       "      <td>50.0</td>\n",
       "      <td>37.0</td>\n",
       "      <td>39.0</td>\n",
       "    </tr>\n",
       "  </tbody>\n",
       "</table>\n",
       "</div>"
      ],
      "text/plain": [
       "                                                data  \\\n",
       "1  {'description': '90639254423131116107623161788...   \n",
       "2  {'description': '90815939129608954540581491538...   \n",
       "3  {'description': '90992623836086792973539821288...   \n",
       "\n",
       "                                          attributes  \\\n",
       "1  [{'display_type': 'date', 'trait_type': 'birth...   \n",
       "2  [{'display_type': 'date', 'trait_type': 'birth...   \n",
       "3  [{'display_type': 'date', 'trait_type': 'birth...   \n",
       "\n",
       "                                         description  \\\n",
       "1  9063925442313111610762316178811172860734019784...   \n",
       "2  9081593912960895454058149153818602920431322016...   \n",
       "3  9099262383608679297353982128826032980128624248...   \n",
       "\n",
       "                                external_url  \\\n",
       "1  https://marketplace.crabada.com/crabada/1   \n",
       "2  https://marketplace.crabada.com/crabada/2   \n",
       "3  https://marketplace.crabada.com/crabada/3   \n",
       "\n",
       "                                               image       name  \\\n",
       "1  https://pro-crabada-photos.s3.ap-southeast-1.a...  Crabada 1   \n",
       "2  https://pro-crabada-photos.s3.ap-southeast-1.a...  Crabada 2   \n",
       "3  https://pro-crabada-photos.s3.ap-southeast-1.a...  Crabada 3   \n",
       "\n",
       "                                              traits      birthday  class  \\\n",
       "1  {'birthday': 1635777816, 'class': 'SURGE', 'pu...  1.635778e+09  SURGE   \n",
       "2  {'birthday': 1635777816, 'class': 'SURGE', 'pu...  1.635778e+09  SURGE   \n",
       "3  {'birthday': 1635777816, 'class': 'SURGE', 'pu...  1.635778e+09  SURGE   \n",
       "\n",
       "   pure  legend  origin  genesis     hp  speed  damage  armor  critical  \n",
       "1   6.0     0.0     1.0      1.0  150.0   26.0    50.0   37.0      39.0  \n",
       "2   6.0     0.0     1.0      1.0  150.0   26.0    50.0   37.0      39.0  \n",
       "3   6.0     0.0     1.0      1.0  150.0   26.0    50.0   37.0      39.0  "
      ]
     },
     "execution_count": 8,
     "metadata": {},
     "output_type": "execute_result"
    }
   ],
   "source": [
    "crabs_df.head(3)"
   ]
  },
  {
   "cell_type": "code",
   "execution_count": 9,
   "id": "734f63fe",
   "metadata": {},
   "outputs": [
    {
     "data": {
      "text/html": [
       "<div>\n",
       "<style scoped>\n",
       "    .dataframe tbody tr th:only-of-type {\n",
       "        vertical-align: middle;\n",
       "    }\n",
       "\n",
       "    .dataframe tbody tr th {\n",
       "        vertical-align: top;\n",
       "    }\n",
       "\n",
       "    .dataframe thead th {\n",
       "        text-align: right;\n",
       "    }\n",
       "</style>\n",
       "<table border=\"1\" class=\"dataframe\">\n",
       "  <thead>\n",
       "    <tr style=\"text-align: right;\">\n",
       "      <th></th>\n",
       "      <th>birthday</th>\n",
       "      <th>class</th>\n",
       "      <th>pure</th>\n",
       "      <th>legend</th>\n",
       "      <th>origin</th>\n",
       "      <th>genesis</th>\n",
       "      <th>hp</th>\n",
       "      <th>speed</th>\n",
       "      <th>damage</th>\n",
       "      <th>armor</th>\n",
       "      <th>critical</th>\n",
       "    </tr>\n",
       "  </thead>\n",
       "  <tbody>\n",
       "    <tr>\n",
       "      <th>1</th>\n",
       "      <td>1.635778e+09</td>\n",
       "      <td>SURGE</td>\n",
       "      <td>6.0</td>\n",
       "      <td>0.0</td>\n",
       "      <td>1.0</td>\n",
       "      <td>1.0</td>\n",
       "      <td>150.0</td>\n",
       "      <td>26.0</td>\n",
       "      <td>50.0</td>\n",
       "      <td>37.0</td>\n",
       "      <td>39.0</td>\n",
       "    </tr>\n",
       "    <tr>\n",
       "      <th>2</th>\n",
       "      <td>1.635778e+09</td>\n",
       "      <td>SURGE</td>\n",
       "      <td>6.0</td>\n",
       "      <td>0.0</td>\n",
       "      <td>1.0</td>\n",
       "      <td>1.0</td>\n",
       "      <td>150.0</td>\n",
       "      <td>26.0</td>\n",
       "      <td>50.0</td>\n",
       "      <td>37.0</td>\n",
       "      <td>39.0</td>\n",
       "    </tr>\n",
       "    <tr>\n",
       "      <th>3</th>\n",
       "      <td>1.635778e+09</td>\n",
       "      <td>SURGE</td>\n",
       "      <td>6.0</td>\n",
       "      <td>0.0</td>\n",
       "      <td>1.0</td>\n",
       "      <td>1.0</td>\n",
       "      <td>150.0</td>\n",
       "      <td>26.0</td>\n",
       "      <td>50.0</td>\n",
       "      <td>37.0</td>\n",
       "      <td>39.0</td>\n",
       "    </tr>\n",
       "    <tr>\n",
       "      <th>4</th>\n",
       "      <td>1.635778e+09</td>\n",
       "      <td>SURGE</td>\n",
       "      <td>6.0</td>\n",
       "      <td>0.0</td>\n",
       "      <td>1.0</td>\n",
       "      <td>1.0</td>\n",
       "      <td>150.0</td>\n",
       "      <td>26.0</td>\n",
       "      <td>50.0</td>\n",
       "      <td>37.0</td>\n",
       "      <td>39.0</td>\n",
       "    </tr>\n",
       "    <tr>\n",
       "      <th>5</th>\n",
       "      <td>1.635778e+09</td>\n",
       "      <td>SURGE</td>\n",
       "      <td>6.0</td>\n",
       "      <td>0.0</td>\n",
       "      <td>1.0</td>\n",
       "      <td>1.0</td>\n",
       "      <td>150.0</td>\n",
       "      <td>26.0</td>\n",
       "      <td>50.0</td>\n",
       "      <td>37.0</td>\n",
       "      <td>39.0</td>\n",
       "    </tr>\n",
       "  </tbody>\n",
       "</table>\n",
       "</div>"
      ],
      "text/plain": [
       "       birthday  class  pure  legend  origin  genesis     hp  speed  damage  \\\n",
       "1  1.635778e+09  SURGE   6.0     0.0     1.0      1.0  150.0   26.0    50.0   \n",
       "2  1.635778e+09  SURGE   6.0     0.0     1.0      1.0  150.0   26.0    50.0   \n",
       "3  1.635778e+09  SURGE   6.0     0.0     1.0      1.0  150.0   26.0    50.0   \n",
       "4  1.635778e+09  SURGE   6.0     0.0     1.0      1.0  150.0   26.0    50.0   \n",
       "5  1.635778e+09  SURGE   6.0     0.0     1.0      1.0  150.0   26.0    50.0   \n",
       "\n",
       "   armor  critical  \n",
       "1   37.0      39.0  \n",
       "2   37.0      39.0  \n",
       "3   37.0      39.0  \n",
       "4   37.0      39.0  \n",
       "5   37.0      39.0  "
      ]
     },
     "execution_count": 9,
     "metadata": {},
     "output_type": "execute_result"
    }
   ],
   "source": [
    "# drop unwanted columns\n",
    "crabs_df.drop(columns=[\"data\", \"attributes\", \"description\", \"external_url\", \"image\", \"name\", \"traits\"], inplace=True)\n",
    "crabs_df.head()"
   ]
  },
  {
   "cell_type": "markdown",
   "id": "f90ac901",
   "metadata": {},
   "source": [
    "## Explore Data"
   ]
  },
  {
   "cell_type": "markdown",
   "id": "7fce85d2",
   "metadata": {},
   "source": [
    "### Owners"
   ]
  },
  {
   "cell_type": "markdown",
   "id": "3e4bb4c0",
   "metadata": {},
   "source": [
    "<u>Based on SnowTrace</u>:  \n",
    "\n",
    "0x82a85407BD612f52577909F4A58bfC6873f14DA8: `Crabada Game`  \n",
    "0x1fA283b8C14e2d33e699cCe56Bf32b7cb2DB67d8:  \n",
    "0xb95afB5318E340F3aFDF2ddE2D9c3Fc041C6aE2d:  \n",
    "0x7E8DEef5bb861cF158d8BdaAa1c31f7B49922F49:  `Market Place`"
   ]
  },
  {
   "cell_type": "code",
   "execution_count": 10,
   "id": "dd601387",
   "metadata": {},
   "outputs": [
    {
     "data": {
      "text/html": [
       "<div>\n",
       "<style scoped>\n",
       "    .dataframe tbody tr th:only-of-type {\n",
       "        vertical-align: middle;\n",
       "    }\n",
       "\n",
       "    .dataframe tbody tr th {\n",
       "        vertical-align: top;\n",
       "    }\n",
       "\n",
       "    .dataframe thead th {\n",
       "        text-align: right;\n",
       "    }\n",
       "</style>\n",
       "<table border=\"1\" class=\"dataframe\">\n",
       "  <thead>\n",
       "    <tr style=\"text-align: right;\">\n",
       "      <th></th>\n",
       "      <th>owner</th>\n",
       "      <th>count</th>\n",
       "    </tr>\n",
       "  </thead>\n",
       "  <tbody>\n",
       "    <tr>\n",
       "      <th>0</th>\n",
       "      <td>0x82a85407BD612f52577909F4A58bfC6873f14DA8</td>\n",
       "      <td>7692</td>\n",
       "    </tr>\n",
       "    <tr>\n",
       "      <th>1</th>\n",
       "      <td>0x1fA283b8C14e2d33e699cCe56Bf32b7cb2DB67d8</td>\n",
       "      <td>372</td>\n",
       "    </tr>\n",
       "    <tr>\n",
       "      <th>2</th>\n",
       "      <td>0xb95afB5318E340F3aFDF2ddE2D9c3Fc041C6aE2d</td>\n",
       "      <td>364</td>\n",
       "    </tr>\n",
       "    <tr>\n",
       "      <th>3</th>\n",
       "      <td>0x7E8DEef5bb861cF158d8BdaAa1c31f7B49922F49</td>\n",
       "      <td>351</td>\n",
       "    </tr>\n",
       "    <tr>\n",
       "      <th>4</th>\n",
       "      <td>0xCeA85acE606Ef0a2166c9DE211C5a2aF4d14590B</td>\n",
       "      <td>54</td>\n",
       "    </tr>\n",
       "    <tr>\n",
       "      <th>...</th>\n",
       "      <td>...</td>\n",
       "      <td>...</td>\n",
       "    </tr>\n",
       "    <tr>\n",
       "      <th>441</th>\n",
       "      <td>0x3660f03882ff584B1d97d8A7adeD8163db5de610</td>\n",
       "      <td>1</td>\n",
       "    </tr>\n",
       "    <tr>\n",
       "      <th>442</th>\n",
       "      <td>0x9c0915e70d7553A8A67173416767a4aBEc5A24A9</td>\n",
       "      <td>1</td>\n",
       "    </tr>\n",
       "    <tr>\n",
       "      <th>443</th>\n",
       "      <td>0x9c0b4b27d48d1bcfD7707B856182cf4a5C0BF74C</td>\n",
       "      <td>1</td>\n",
       "    </tr>\n",
       "    <tr>\n",
       "      <th>444</th>\n",
       "      <td>0x3597FE5f85ef4c23c94B8A53Dd94C8106B90bfDd</td>\n",
       "      <td>1</td>\n",
       "    </tr>\n",
       "    <tr>\n",
       "      <th>445</th>\n",
       "      <td>0xfdf8429E6b5065E2649C8A587D0e047CEf2E5130</td>\n",
       "      <td>1</td>\n",
       "    </tr>\n",
       "  </tbody>\n",
       "</table>\n",
       "<p>446 rows × 2 columns</p>\n",
       "</div>"
      ],
      "text/plain": [
       "                                          owner  count\n",
       "0    0x82a85407BD612f52577909F4A58bfC6873f14DA8   7692\n",
       "1    0x1fA283b8C14e2d33e699cCe56Bf32b7cb2DB67d8    372\n",
       "2    0xb95afB5318E340F3aFDF2ddE2D9c3Fc041C6aE2d    364\n",
       "3    0x7E8DEef5bb861cF158d8BdaAa1c31f7B49922F49    351\n",
       "4    0xCeA85acE606Ef0a2166c9DE211C5a2aF4d14590B     54\n",
       "..                                          ...    ...\n",
       "441  0x3660f03882ff584B1d97d8A7adeD8163db5de610      1\n",
       "442  0x9c0915e70d7553A8A67173416767a4aBEc5A24A9      1\n",
       "443  0x9c0b4b27d48d1bcfD7707B856182cf4a5C0BF74C      1\n",
       "444  0x3597FE5f85ef4c23c94B8A53Dd94C8106B90bfDd      1\n",
       "445  0xfdf8429E6b5065E2649C8A587D0e047CEf2E5130      1\n",
       "\n",
       "[446 rows x 2 columns]"
      ]
     },
     "execution_count": 10,
     "metadata": {},
     "output_type": "execute_result"
    }
   ],
   "source": [
    "owner_count = owners_df.groupby(\"owner\").size().to_frame(name=\"count\").sort_values(by=\"count\", ascending=False).reset_index()\n",
    "owner_count #446 unique holders"
   ]
  },
  {
   "cell_type": "code",
   "execution_count": 20,
   "id": "7e4c444b",
   "metadata": {},
   "outputs": [
    {
     "data": {
      "text/html": [
       "<div>\n",
       "<style scoped>\n",
       "    .dataframe tbody tr th:only-of-type {\n",
       "        vertical-align: middle;\n",
       "    }\n",
       "\n",
       "    .dataframe tbody tr th {\n",
       "        vertical-align: top;\n",
       "    }\n",
       "\n",
       "    .dataframe thead th {\n",
       "        text-align: right;\n",
       "    }\n",
       "</style>\n",
       "<table border=\"1\" class=\"dataframe\">\n",
       "  <thead>\n",
       "    <tr style=\"text-align: right;\">\n",
       "      <th></th>\n",
       "      <th>owner</th>\n",
       "      <th>count</th>\n",
       "    </tr>\n",
       "  </thead>\n",
       "  <tbody>\n",
       "    <tr>\n",
       "      <th>4</th>\n",
       "      <td>0xCeA85acE606Ef0a2166c9DE211C5a2aF4d14590B</td>\n",
       "      <td>54</td>\n",
       "    </tr>\n",
       "    <tr>\n",
       "      <th>5</th>\n",
       "      <td>0xCCCD64Fd8976A03AE897fAd97249e01fB9170eb6</td>\n",
       "      <td>29</td>\n",
       "    </tr>\n",
       "    <tr>\n",
       "      <th>6</th>\n",
       "      <td>0xda0DF05Be32a391c23cf4A714b606A9109527EA4</td>\n",
       "      <td>25</td>\n",
       "    </tr>\n",
       "    <tr>\n",
       "      <th>7</th>\n",
       "      <td>0x2Bf7cD06a44E01cC94a0F7B9Dc8b57c6A2d15157</td>\n",
       "      <td>21</td>\n",
       "    </tr>\n",
       "    <tr>\n",
       "      <th>8</th>\n",
       "      <td>0x8fDf8C2DAA5D99299d59a1513DCEdB0106aaba3D</td>\n",
       "      <td>20</td>\n",
       "    </tr>\n",
       "    <tr>\n",
       "      <th>...</th>\n",
       "      <td>...</td>\n",
       "      <td>...</td>\n",
       "    </tr>\n",
       "    <tr>\n",
       "      <th>244</th>\n",
       "      <td>0xd35C1D0C61050266aB071915b4801Fc341Bf8511</td>\n",
       "      <td>2</td>\n",
       "    </tr>\n",
       "    <tr>\n",
       "      <th>245</th>\n",
       "      <td>0xF8779699A0C21Cba7bf78704CbeD03CF53E7d1B8</td>\n",
       "      <td>2</td>\n",
       "    </tr>\n",
       "    <tr>\n",
       "      <th>246</th>\n",
       "      <td>0xcD98196055fA8DA4339227aA632E4e6f401b3d8A</td>\n",
       "      <td>2</td>\n",
       "    </tr>\n",
       "    <tr>\n",
       "      <th>247</th>\n",
       "      <td>0xBb711b57Fb9E13D680E71Da3CFb1A6cFC74CE0c8</td>\n",
       "      <td>2</td>\n",
       "    </tr>\n",
       "    <tr>\n",
       "      <th>248</th>\n",
       "      <td>0xDF939392e5193F9601E7179354737629a0A36EFc</td>\n",
       "      <td>2</td>\n",
       "    </tr>\n",
       "  </tbody>\n",
       "</table>\n",
       "<p>245 rows × 2 columns</p>\n",
       "</div>"
      ],
      "text/plain": [
       "                                          owner  count\n",
       "4    0xCeA85acE606Ef0a2166c9DE211C5a2aF4d14590B     54\n",
       "5    0xCCCD64Fd8976A03AE897fAd97249e01fB9170eb6     29\n",
       "6    0xda0DF05Be32a391c23cf4A714b606A9109527EA4     25\n",
       "7    0x2Bf7cD06a44E01cC94a0F7B9Dc8b57c6A2d15157     21\n",
       "8    0x8fDf8C2DAA5D99299d59a1513DCEdB0106aaba3D     20\n",
       "..                                          ...    ...\n",
       "244  0xd35C1D0C61050266aB071915b4801Fc341Bf8511      2\n",
       "245  0xF8779699A0C21Cba7bf78704CbeD03CF53E7d1B8      2\n",
       "246  0xcD98196055fA8DA4339227aA632E4e6f401b3d8A      2\n",
       "247  0xBb711b57Fb9E13D680E71Da3CFb1A6cFC74CE0c8      2\n",
       "248  0xDF939392e5193F9601E7179354737629a0A36EFc      2\n",
       "\n",
       "[245 rows x 2 columns]"
      ]
     },
     "execution_count": 20,
     "metadata": {},
     "output_type": "execute_result"
    }
   ],
   "source": [
    "# how many have more than 1 crab? #about 245\n",
    "mt2crabs = owner_count[(owner_count[\"count\"]>=2) & (owner_count[\"count\"]<300)]\n",
    "mt2crabs"
   ]
  },
  {
   "cell_type": "code",
   "execution_count": 50,
   "id": "d50b4402",
   "metadata": {},
   "outputs": [
    {
     "data": {
      "text/html": [
       "<div>\n",
       "<style scoped>\n",
       "    .dataframe tbody tr th:only-of-type {\n",
       "        vertical-align: middle;\n",
       "    }\n",
       "\n",
       "    .dataframe tbody tr th {\n",
       "        vertical-align: top;\n",
       "    }\n",
       "\n",
       "    .dataframe thead th {\n",
       "        text-align: right;\n",
       "    }\n",
       "</style>\n",
       "<table border=\"1\" class=\"dataframe\">\n",
       "  <thead>\n",
       "    <tr style=\"text-align: right;\">\n",
       "      <th></th>\n",
       "      <th>count</th>\n",
       "    </tr>\n",
       "  </thead>\n",
       "  <tbody>\n",
       "    <tr>\n",
       "      <th>count</th>\n",
       "      <td>442.000000</td>\n",
       "    </tr>\n",
       "    <tr>\n",
       "      <th>mean</th>\n",
       "      <td>2.769231</td>\n",
       "    </tr>\n",
       "    <tr>\n",
       "      <th>std</th>\n",
       "      <td>3.881014</td>\n",
       "    </tr>\n",
       "    <tr>\n",
       "      <th>min</th>\n",
       "      <td>1.000000</td>\n",
       "    </tr>\n",
       "    <tr>\n",
       "      <th>25%</th>\n",
       "      <td>1.000000</td>\n",
       "    </tr>\n",
       "    <tr>\n",
       "      <th>50%</th>\n",
       "      <td>2.000000</td>\n",
       "    </tr>\n",
       "    <tr>\n",
       "      <th>75%</th>\n",
       "      <td>3.000000</td>\n",
       "    </tr>\n",
       "    <tr>\n",
       "      <th>max</th>\n",
       "      <td>54.000000</td>\n",
       "    </tr>\n",
       "  </tbody>\n",
       "</table>\n",
       "</div>"
      ],
      "text/plain": [
       "            count\n",
       "count  442.000000\n",
       "mean     2.769231\n",
       "std      3.881014\n",
       "min      1.000000\n",
       "25%      1.000000\n",
       "50%      2.000000\n",
       "75%      3.000000\n",
       "max     54.000000"
      ]
     },
     "execution_count": 50,
     "metadata": {},
     "output_type": "execute_result"
    }
   ],
   "source": [
    "owner_count[owner_count[\"count\"]<300].describe() # median is 2"
   ]
  },
  {
   "cell_type": "code",
   "execution_count": 56,
   "id": "5539e7c3",
   "metadata": {},
   "outputs": [
    {
     "name": "stdout",
     "output_type": "stream",
     "text": [
      "20 is in 98.21 percentile\n",
      "19 is in 97.98 percentile\n",
      "18 is in 97.98 percentile\n",
      "17 is in 97.76 percentile\n",
      "16 is in 97.76 percentile\n",
      "15 is in 97.53 percentile\n",
      "14 is in 97.31 percentile\n",
      "13 is in 97.31 percentile\n",
      "12 is in 97.20 percentile\n",
      "11 is in 96.75 percentile\n",
      "10 is in 96.41 percentile\n",
      "9 is in 95.74 percentile\n",
      "8 is in 94.39 percentile\n",
      "7 is in 93.27 percentile\n",
      "6 is in 91.70 percentile\n",
      "5 is in 89.35 percentile\n",
      "4 is in 86.43 percentile\n"
     ]
    }
   ],
   "source": [
    "for i in range(20, 3, -1):\n",
    "    print(\"{} is in {:.2f} percentile\".format(i, stats.percentileofscore(owner_count[\"count\"], i)))\n",
    "\n",
    "#top 10 percentile has 10 crabs"
   ]
  },
  {
   "cell_type": "code",
   "execution_count": 64,
   "id": "2f7528a8",
   "metadata": {},
   "outputs": [
    {
     "data": {
      "text/plain": [
       "17"
      ]
     },
     "execution_count": 64,
     "metadata": {},
     "output_type": "execute_result"
    }
   ],
   "source": [
    "# how many addresses have 10 or more crabs - 17/445 hodlers\n",
    "owner_count[owner_count[\"count\"]>9][\"owner\"].count()"
   ]
  },
  {
   "cell_type": "code",
   "execution_count": 66,
   "id": "64e31646",
   "metadata": {},
   "outputs": [],
   "source": [
    "# how many have more than 7 crab? #about 245\n",
    "mt7crabs = owner_count[(owner_count[\"count\"]>=7) & (owner_count[\"count\"]<300)]"
   ]
  },
  {
   "cell_type": "code",
   "execution_count": 68,
   "id": "5f74aacb",
   "metadata": {},
   "outputs": [
    {
     "data": {
      "application/vnd.plotly.v1+json": {
       "config": {
        "plotlyServerURL": "https://plot.ly"
       },
       "data": [
        {
         "alignmentgroup": "True",
         "hovertemplate": "owner=%{x}<br>count=%{marker.color}<extra></extra>",
         "legendgroup": "",
         "marker": {
          "color": [
           54,
           29,
           25,
           21,
           20,
           18,
           16,
           15,
           12,
           12,
           11,
           11,
           10,
           9,
           9,
           9,
           9,
           9,
           8,
           8,
           8,
           8,
           8,
           8,
           8,
           7,
           7,
           7
          ],
          "coloraxis": "coloraxis",
          "pattern": {
           "shape": ""
          }
         },
         "name": "",
         "offsetgroup": "",
         "orientation": "v",
         "showlegend": false,
         "textposition": "auto",
         "type": "bar",
         "x": [
          "0xCeA85acE606Ef0a2166c9DE211C5a2aF4d14590B",
          "0xCCCD64Fd8976A03AE897fAd97249e01fB9170eb6",
          "0xda0DF05Be32a391c23cf4A714b606A9109527EA4",
          "0x2Bf7cD06a44E01cC94a0F7B9Dc8b57c6A2d15157",
          "0x8fDf8C2DAA5D99299d59a1513DCEdB0106aaba3D",
          "0xC09805B19d17926ba3822c5757d2b8E6865A906a",
          "0x0653441ab038D44E1D8C85f1d0D805e8270FFe4f",
          "0x430997CF1b506EBF228734ED434A6C6ABD594f53",
          "0xC0cD528477Cf84BABDD4C86889C86B157f529D20",
          "0x4Ae04bdb0c084b507fb5740bbD6eB6C37f6B7778",
          "0xab32FA260b024b5db6bBe8D0983E9aC3fcd1a221",
          "0x33eBB62DC9ddBf6B8F3C0efdF5BccC2e7AC60211",
          "0xC77A55ABb91E7cDEb810748Cb1fBC5De8f36a7b7",
          "0xFd71d918A79649A3947C954217877E4bdF8d26ED",
          "0x345c34A6aE1524D4fCD9AAfbefa51086baE9b991",
          "0xC8707623CDb85Cc56E275A8556dB2FE76fAdafFc",
          "0xf9FE5e5452EAEc284A3f57A4BFCDc873F2930F9a",
          "0x36E0bC78595063cEc14caD617647701B3C9E0c31",
          "0x2E5322b59a2D5c982BE103fCcc05EB182AD9BcE3",
          "0x00d65Da4e75D119fceb382C151f519D6B5E97a4A",
          "0xaB0376dF9782b8B3CdCde16D353CE489974B8940",
          "0xd23fB90e652b7Ebf605163b4A6AF34f9159aD9A3",
          "0x4716a689a7b1378884CD1a1f200c110CBED0bC55",
          "0xeDa0ec743c3AA01b5451Dc8aE70aC9c3D208d7aB",
          "0x74DC71b8fF1377891f730ae0A205034f4aCDC9F6",
          "0xda55a246f0c3Bf5b2153943275Ea509200D66376",
          "0xDA755d290ed76757A0A2B57c031c38770b2ecE91",
          "0xaAFbA492437Cc40Dd8cBC81D91d0D58b6d93E45c"
         ],
         "xaxis": "x",
         "y": [
          54,
          29,
          25,
          21,
          20,
          18,
          16,
          15,
          12,
          12,
          11,
          11,
          10,
          9,
          9,
          9,
          9,
          9,
          8,
          8,
          8,
          8,
          8,
          8,
          8,
          7,
          7,
          7
         ],
         "yaxis": "y"
        }
       ],
       "layout": {
        "barmode": "relative",
        "coloraxis": {
         "colorbar": {
          "title": {
           "text": "count"
          }
         },
         "colorscale": [
          [
           0,
           "#0d0887"
          ],
          [
           0.1111111111111111,
           "#46039f"
          ],
          [
           0.2222222222222222,
           "#7201a8"
          ],
          [
           0.3333333333333333,
           "#9c179e"
          ],
          [
           0.4444444444444444,
           "#bd3786"
          ],
          [
           0.5555555555555556,
           "#d8576b"
          ],
          [
           0.6666666666666666,
           "#ed7953"
          ],
          [
           0.7777777777777778,
           "#fb9f3a"
          ],
          [
           0.8888888888888888,
           "#fdca26"
          ],
          [
           1,
           "#f0f921"
          ]
         ]
        },
        "legend": {
         "tracegroupgap": 0
        },
        "margin": {
         "t": 60
        },
        "template": {
         "data": {
          "bar": [
           {
            "error_x": {
             "color": "#2a3f5f"
            },
            "error_y": {
             "color": "#2a3f5f"
            },
            "marker": {
             "line": {
              "color": "#E5ECF6",
              "width": 0.5
             },
             "pattern": {
              "fillmode": "overlay",
              "size": 10,
              "solidity": 0.2
             }
            },
            "type": "bar"
           }
          ],
          "barpolar": [
           {
            "marker": {
             "line": {
              "color": "#E5ECF6",
              "width": 0.5
             },
             "pattern": {
              "fillmode": "overlay",
              "size": 10,
              "solidity": 0.2
             }
            },
            "type": "barpolar"
           }
          ],
          "carpet": [
           {
            "aaxis": {
             "endlinecolor": "#2a3f5f",
             "gridcolor": "white",
             "linecolor": "white",
             "minorgridcolor": "white",
             "startlinecolor": "#2a3f5f"
            },
            "baxis": {
             "endlinecolor": "#2a3f5f",
             "gridcolor": "white",
             "linecolor": "white",
             "minorgridcolor": "white",
             "startlinecolor": "#2a3f5f"
            },
            "type": "carpet"
           }
          ],
          "choropleth": [
           {
            "colorbar": {
             "outlinewidth": 0,
             "ticks": ""
            },
            "type": "choropleth"
           }
          ],
          "contour": [
           {
            "colorbar": {
             "outlinewidth": 0,
             "ticks": ""
            },
            "colorscale": [
             [
              0,
              "#0d0887"
             ],
             [
              0.1111111111111111,
              "#46039f"
             ],
             [
              0.2222222222222222,
              "#7201a8"
             ],
             [
              0.3333333333333333,
              "#9c179e"
             ],
             [
              0.4444444444444444,
              "#bd3786"
             ],
             [
              0.5555555555555556,
              "#d8576b"
             ],
             [
              0.6666666666666666,
              "#ed7953"
             ],
             [
              0.7777777777777778,
              "#fb9f3a"
             ],
             [
              0.8888888888888888,
              "#fdca26"
             ],
             [
              1,
              "#f0f921"
             ]
            ],
            "type": "contour"
           }
          ],
          "contourcarpet": [
           {
            "colorbar": {
             "outlinewidth": 0,
             "ticks": ""
            },
            "type": "contourcarpet"
           }
          ],
          "heatmap": [
           {
            "colorbar": {
             "outlinewidth": 0,
             "ticks": ""
            },
            "colorscale": [
             [
              0,
              "#0d0887"
             ],
             [
              0.1111111111111111,
              "#46039f"
             ],
             [
              0.2222222222222222,
              "#7201a8"
             ],
             [
              0.3333333333333333,
              "#9c179e"
             ],
             [
              0.4444444444444444,
              "#bd3786"
             ],
             [
              0.5555555555555556,
              "#d8576b"
             ],
             [
              0.6666666666666666,
              "#ed7953"
             ],
             [
              0.7777777777777778,
              "#fb9f3a"
             ],
             [
              0.8888888888888888,
              "#fdca26"
             ],
             [
              1,
              "#f0f921"
             ]
            ],
            "type": "heatmap"
           }
          ],
          "heatmapgl": [
           {
            "colorbar": {
             "outlinewidth": 0,
             "ticks": ""
            },
            "colorscale": [
             [
              0,
              "#0d0887"
             ],
             [
              0.1111111111111111,
              "#46039f"
             ],
             [
              0.2222222222222222,
              "#7201a8"
             ],
             [
              0.3333333333333333,
              "#9c179e"
             ],
             [
              0.4444444444444444,
              "#bd3786"
             ],
             [
              0.5555555555555556,
              "#d8576b"
             ],
             [
              0.6666666666666666,
              "#ed7953"
             ],
             [
              0.7777777777777778,
              "#fb9f3a"
             ],
             [
              0.8888888888888888,
              "#fdca26"
             ],
             [
              1,
              "#f0f921"
             ]
            ],
            "type": "heatmapgl"
           }
          ],
          "histogram": [
           {
            "marker": {
             "pattern": {
              "fillmode": "overlay",
              "size": 10,
              "solidity": 0.2
             }
            },
            "type": "histogram"
           }
          ],
          "histogram2d": [
           {
            "colorbar": {
             "outlinewidth": 0,
             "ticks": ""
            },
            "colorscale": [
             [
              0,
              "#0d0887"
             ],
             [
              0.1111111111111111,
              "#46039f"
             ],
             [
              0.2222222222222222,
              "#7201a8"
             ],
             [
              0.3333333333333333,
              "#9c179e"
             ],
             [
              0.4444444444444444,
              "#bd3786"
             ],
             [
              0.5555555555555556,
              "#d8576b"
             ],
             [
              0.6666666666666666,
              "#ed7953"
             ],
             [
              0.7777777777777778,
              "#fb9f3a"
             ],
             [
              0.8888888888888888,
              "#fdca26"
             ],
             [
              1,
              "#f0f921"
             ]
            ],
            "type": "histogram2d"
           }
          ],
          "histogram2dcontour": [
           {
            "colorbar": {
             "outlinewidth": 0,
             "ticks": ""
            },
            "colorscale": [
             [
              0,
              "#0d0887"
             ],
             [
              0.1111111111111111,
              "#46039f"
             ],
             [
              0.2222222222222222,
              "#7201a8"
             ],
             [
              0.3333333333333333,
              "#9c179e"
             ],
             [
              0.4444444444444444,
              "#bd3786"
             ],
             [
              0.5555555555555556,
              "#d8576b"
             ],
             [
              0.6666666666666666,
              "#ed7953"
             ],
             [
              0.7777777777777778,
              "#fb9f3a"
             ],
             [
              0.8888888888888888,
              "#fdca26"
             ],
             [
              1,
              "#f0f921"
             ]
            ],
            "type": "histogram2dcontour"
           }
          ],
          "mesh3d": [
           {
            "colorbar": {
             "outlinewidth": 0,
             "ticks": ""
            },
            "type": "mesh3d"
           }
          ],
          "parcoords": [
           {
            "line": {
             "colorbar": {
              "outlinewidth": 0,
              "ticks": ""
             }
            },
            "type": "parcoords"
           }
          ],
          "pie": [
           {
            "automargin": true,
            "type": "pie"
           }
          ],
          "scatter": [
           {
            "marker": {
             "colorbar": {
              "outlinewidth": 0,
              "ticks": ""
             }
            },
            "type": "scatter"
           }
          ],
          "scatter3d": [
           {
            "line": {
             "colorbar": {
              "outlinewidth": 0,
              "ticks": ""
             }
            },
            "marker": {
             "colorbar": {
              "outlinewidth": 0,
              "ticks": ""
             }
            },
            "type": "scatter3d"
           }
          ],
          "scattercarpet": [
           {
            "marker": {
             "colorbar": {
              "outlinewidth": 0,
              "ticks": ""
             }
            },
            "type": "scattercarpet"
           }
          ],
          "scattergeo": [
           {
            "marker": {
             "colorbar": {
              "outlinewidth": 0,
              "ticks": ""
             }
            },
            "type": "scattergeo"
           }
          ],
          "scattergl": [
           {
            "marker": {
             "colorbar": {
              "outlinewidth": 0,
              "ticks": ""
             }
            },
            "type": "scattergl"
           }
          ],
          "scattermapbox": [
           {
            "marker": {
             "colorbar": {
              "outlinewidth": 0,
              "ticks": ""
             }
            },
            "type": "scattermapbox"
           }
          ],
          "scatterpolar": [
           {
            "marker": {
             "colorbar": {
              "outlinewidth": 0,
              "ticks": ""
             }
            },
            "type": "scatterpolar"
           }
          ],
          "scatterpolargl": [
           {
            "marker": {
             "colorbar": {
              "outlinewidth": 0,
              "ticks": ""
             }
            },
            "type": "scatterpolargl"
           }
          ],
          "scatterternary": [
           {
            "marker": {
             "colorbar": {
              "outlinewidth": 0,
              "ticks": ""
             }
            },
            "type": "scatterternary"
           }
          ],
          "surface": [
           {
            "colorbar": {
             "outlinewidth": 0,
             "ticks": ""
            },
            "colorscale": [
             [
              0,
              "#0d0887"
             ],
             [
              0.1111111111111111,
              "#46039f"
             ],
             [
              0.2222222222222222,
              "#7201a8"
             ],
             [
              0.3333333333333333,
              "#9c179e"
             ],
             [
              0.4444444444444444,
              "#bd3786"
             ],
             [
              0.5555555555555556,
              "#d8576b"
             ],
             [
              0.6666666666666666,
              "#ed7953"
             ],
             [
              0.7777777777777778,
              "#fb9f3a"
             ],
             [
              0.8888888888888888,
              "#fdca26"
             ],
             [
              1,
              "#f0f921"
             ]
            ],
            "type": "surface"
           }
          ],
          "table": [
           {
            "cells": {
             "fill": {
              "color": "#EBF0F8"
             },
             "line": {
              "color": "white"
             }
            },
            "header": {
             "fill": {
              "color": "#C8D4E3"
             },
             "line": {
              "color": "white"
             }
            },
            "type": "table"
           }
          ]
         },
         "layout": {
          "annotationdefaults": {
           "arrowcolor": "#2a3f5f",
           "arrowhead": 0,
           "arrowwidth": 1
          },
          "autotypenumbers": "strict",
          "coloraxis": {
           "colorbar": {
            "outlinewidth": 0,
            "ticks": ""
           }
          },
          "colorscale": {
           "diverging": [
            [
             0,
             "#8e0152"
            ],
            [
             0.1,
             "#c51b7d"
            ],
            [
             0.2,
             "#de77ae"
            ],
            [
             0.3,
             "#f1b6da"
            ],
            [
             0.4,
             "#fde0ef"
            ],
            [
             0.5,
             "#f7f7f7"
            ],
            [
             0.6,
             "#e6f5d0"
            ],
            [
             0.7,
             "#b8e186"
            ],
            [
             0.8,
             "#7fbc41"
            ],
            [
             0.9,
             "#4d9221"
            ],
            [
             1,
             "#276419"
            ]
           ],
           "sequential": [
            [
             0,
             "#0d0887"
            ],
            [
             0.1111111111111111,
             "#46039f"
            ],
            [
             0.2222222222222222,
             "#7201a8"
            ],
            [
             0.3333333333333333,
             "#9c179e"
            ],
            [
             0.4444444444444444,
             "#bd3786"
            ],
            [
             0.5555555555555556,
             "#d8576b"
            ],
            [
             0.6666666666666666,
             "#ed7953"
            ],
            [
             0.7777777777777778,
             "#fb9f3a"
            ],
            [
             0.8888888888888888,
             "#fdca26"
            ],
            [
             1,
             "#f0f921"
            ]
           ],
           "sequentialminus": [
            [
             0,
             "#0d0887"
            ],
            [
             0.1111111111111111,
             "#46039f"
            ],
            [
             0.2222222222222222,
             "#7201a8"
            ],
            [
             0.3333333333333333,
             "#9c179e"
            ],
            [
             0.4444444444444444,
             "#bd3786"
            ],
            [
             0.5555555555555556,
             "#d8576b"
            ],
            [
             0.6666666666666666,
             "#ed7953"
            ],
            [
             0.7777777777777778,
             "#fb9f3a"
            ],
            [
             0.8888888888888888,
             "#fdca26"
            ],
            [
             1,
             "#f0f921"
            ]
           ]
          },
          "colorway": [
           "#636efa",
           "#EF553B",
           "#00cc96",
           "#ab63fa",
           "#FFA15A",
           "#19d3f3",
           "#FF6692",
           "#B6E880",
           "#FF97FF",
           "#FECB52"
          ],
          "font": {
           "color": "#2a3f5f"
          },
          "geo": {
           "bgcolor": "white",
           "lakecolor": "white",
           "landcolor": "#E5ECF6",
           "showlakes": true,
           "showland": true,
           "subunitcolor": "white"
          },
          "hoverlabel": {
           "align": "left"
          },
          "hovermode": "closest",
          "mapbox": {
           "style": "light"
          },
          "paper_bgcolor": "white",
          "plot_bgcolor": "#E5ECF6",
          "polar": {
           "angularaxis": {
            "gridcolor": "white",
            "linecolor": "white",
            "ticks": ""
           },
           "bgcolor": "#E5ECF6",
           "radialaxis": {
            "gridcolor": "white",
            "linecolor": "white",
            "ticks": ""
           }
          },
          "scene": {
           "xaxis": {
            "backgroundcolor": "#E5ECF6",
            "gridcolor": "white",
            "gridwidth": 2,
            "linecolor": "white",
            "showbackground": true,
            "ticks": "",
            "zerolinecolor": "white"
           },
           "yaxis": {
            "backgroundcolor": "#E5ECF6",
            "gridcolor": "white",
            "gridwidth": 2,
            "linecolor": "white",
            "showbackground": true,
            "ticks": "",
            "zerolinecolor": "white"
           },
           "zaxis": {
            "backgroundcolor": "#E5ECF6",
            "gridcolor": "white",
            "gridwidth": 2,
            "linecolor": "white",
            "showbackground": true,
            "ticks": "",
            "zerolinecolor": "white"
           }
          },
          "shapedefaults": {
           "line": {
            "color": "#2a3f5f"
           }
          },
          "ternary": {
           "aaxis": {
            "gridcolor": "white",
            "linecolor": "white",
            "ticks": ""
           },
           "baxis": {
            "gridcolor": "white",
            "linecolor": "white",
            "ticks": ""
           },
           "bgcolor": "#E5ECF6",
           "caxis": {
            "gridcolor": "white",
            "linecolor": "white",
            "ticks": ""
           }
          },
          "title": {
           "x": 0.05
          },
          "xaxis": {
           "automargin": true,
           "gridcolor": "white",
           "linecolor": "white",
           "ticks": "",
           "title": {
            "standoff": 15
           },
           "zerolinecolor": "white",
           "zerolinewidth": 2
          },
          "yaxis": {
           "automargin": true,
           "gridcolor": "white",
           "linecolor": "white",
           "ticks": "",
           "title": {
            "standoff": 15
           },
           "zerolinecolor": "white",
           "zerolinewidth": 2
          }
         }
        },
        "xaxis": {
         "anchor": "y",
         "domain": [
          0,
          1
         ],
         "tickmode": "array",
         "ticktext": [
          "0xCeA85",
          "0xCCCD6",
          "0xda0DF",
          "0x2Bf7c",
          "0x8fDf8",
          "0xC0980",
          "0x06534",
          "0x43099",
          "0xC0cD5",
          "0x4Ae04",
          "0xab32F",
          "0x33eBB",
          "0xC77A5",
          "0xFd71d",
          "0x345c3",
          "0xC8707",
          "0xf9FE5",
          "0x36E0b",
          "0x2E532",
          "0x00d65",
          "0xaB037",
          "0xd23fB",
          "0x4716a",
          "0xeDa0e",
          "0x74DC7",
          "0xda55a",
          "0xDA755",
          "0xaAFbA",
          "0xE8a4B",
          "0x4C7EA",
          "0xD7866",
          "0x734a2",
          "0x49dE6",
          "0x5CfEe",
          "0x2c99f",
          "0x3B99E",
          "0x3cB0A",
          "0xaF899",
          "0x8968E",
          "0xFe588",
          "0x54D82",
          "0x91E2b",
          "0x8911D",
          "0x7391c",
          "0x200FD",
          "0xAfeF1",
          "0xf0c4d",
          "0xf78fA",
          "0x7656f",
          "0x80E59",
          "0xB2f4C",
          "0x8D215",
          "0x2C575",
          "0xC3Ccc",
          "0x49ddD",
          "0x6Cf04",
          "0x139Cf",
          "0xE0b5C",
          "0x55476",
          "0x1ffc7",
          "0x0d42a",
          "0xd015E",
          "0x70013",
          "0xc8261",
          "0x50B8b",
          "0x674Ef",
          "0x826B0",
          "0x863d4",
          "0x89ddE",
          "0x616D5",
          "0x60e54",
          "0x8B2b1",
          "0x60c01",
          "0x5c0c4",
          "0x67958",
          "0x761a7",
          "0x804A9",
          "0x79201",
          "0x6F418",
          "0x7dd4b",
          "0x6c148",
          "0x6c8eD",
          "0x7D5A1",
          "0x7D1D1",
          "0x79f1D",
          "0x70178",
          "0x701B2",
          "0x715B4",
          "0x72419",
          "0x8F321",
          "0x8DD6e",
          "0xf1bf2",
          "0xfAEac",
          "0xf51b7",
          "0xF47Be",
          "0xF5B78",
          "0xF5b2A",
          "0xFa91f",
          "0xa0674",
          "0xa3B64",
          "0xa9707",
          "0xb7265",
          "0xb8a6b",
          "0xbD942",
          "0xEc113",
          "0xbf837",
          "0xc8Cf1",
          "0xc9119",
          "0xd36Eb",
          "0xf3f15",
          "0xe61D6",
          "0xe866d",
          "0xeE27E",
          "0xecb6C",
          "0xF1379",
          "0xE4E6a",
          "0x9160C",
          "0xABf75",
          "0x91690",
          "0x94a04",
          "0x97687",
          "0x98dcF",
          "0x9A211",
          "0x9DCF1",
          "0x9dbB5",
          "0xA0931",
          "0xA6393",
          "0xB2BC7",
          "0xE4946",
          "0xB6226",
          "0xBdF45",
          "0x58225",
          "0xC11B1",
          "0xC923d",
          "0xf97B8",
          "0xCDf4f",
          "0xD0D0A",
          "0xD673e",
          "0xB1071",
          "0x00445",
          "0x3bFD3",
          "0x4C888",
          "0x19Da1",
          "0x53031",
          "0x0eC0a",
          "0x50f78",
          "0x50bB7",
          "0x301D4",
          "0x506dF",
          "0x4b11d",
          "0x25365",
          "0x1955f",
          "0x40ec5",
          "0x2cC4e",
          "0x413D1",
          "0x21DF8",
          "0x420EB",
          "0x31E1a",
          "0x48f15",
          "0x13064",
          "0x169ba",
          "0x23174",
          "0x44Bfb",
          "0x30709",
          "0x3B763",
          "0x1615f",
          "0x3A047",
          "0x1f721",
          "0x1bC83",
          "0x1Cfbf",
          "0x27F68",
          "0x36D27",
          "0x1f0d3",
          "0x53946",
          "0x53a66",
          "0x07A28",
          "0x9C394",
          "0xE7679",
          "0xFFdB7",
          "0xA6003",
          "0xF74f5",
          "0xB5A0f",
          "0xB187D",
          "0xF83EA",
          "0xFDB38",
          "0xB0B0C",
          "0xb643f",
          "0xc662f",
          "0xb36A1",
          "0x99176",
          "0xaE793",
          "0x36f87",
          "0xD0c61",
          "0x9011A",
          "0x9516d",
          "0x3e051",
          "0x376A8",
          "0x8BC7e",
          "0x8Cac1",
          "0x196a3",
          "0xADc58",
          "0x15add",
          "0x3ae2b",
          "0x1B898",
          "0x376D3",
          "0xa410A",
          "0x19412",
          "0x56ca5",
          "0x4ea1b",
          "0xe0646",
          "0xe34B0",
          "0x3049c",
          "0xcD2D0",
          "0x5094d",
          "0xC0e33",
          "0x6C7Bd",
          "0xC1952",
          "0xC37c3",
          "0x07745",
          "0xf5d44",
          "0x063b8",
          "0x28d09",
          "0xD5d41",
          "0x5e013",
          "0x5c254",
          "0x5F8e7",
          "0xD049B",
          "0xD04C3",
          "0x56150",
          "0xfdEB3",
          "0x5838b",
          "0xe2b66",
          "0x9a49A",
          "0xDDC67",
          "0x7Bb97",
          "0xdafa3",
          "0xE211A",
          "0x798e9",
          "0xdC407",
          "0xd8341",
          "0xd35C1",
          "0xF8779",
          "0xcD981",
          "0xBb711",
          "0xDF939"
         ],
         "tickvals": [
          0,
          1,
          2,
          3,
          4,
          5,
          6,
          7,
          8,
          9,
          10,
          11,
          12,
          13,
          14,
          15,
          16,
          17,
          18,
          19,
          20,
          21,
          22,
          23,
          24,
          25,
          26,
          27
         ],
         "title": {
          "text": "owner"
         }
        },
        "yaxis": {
         "anchor": "x",
         "domain": [
          0,
          1
         ],
         "title": {
          "text": "count"
         }
        }
       }
      },
      "text/html": [
       "<div>                            <div id=\"abf7b7fe-a334-45e8-8880-71d906ffbe87\" class=\"plotly-graph-div\" style=\"height:525px; width:100%;\"></div>            <script type=\"text/javascript\">                require([\"plotly\"], function(Plotly) {                    window.PLOTLYENV=window.PLOTLYENV || {};                                    if (document.getElementById(\"abf7b7fe-a334-45e8-8880-71d906ffbe87\")) {                    Plotly.newPlot(                        \"abf7b7fe-a334-45e8-8880-71d906ffbe87\",                        [{\"alignmentgroup\":\"True\",\"hovertemplate\":\"owner=%{x}<br>count=%{marker.color}<extra></extra>\",\"legendgroup\":\"\",\"marker\":{\"color\":[54,29,25,21,20,18,16,15,12,12,11,11,10,9,9,9,9,9,8,8,8,8,8,8,8,7,7,7],\"coloraxis\":\"coloraxis\",\"pattern\":{\"shape\":\"\"}},\"name\":\"\",\"offsetgroup\":\"\",\"orientation\":\"v\",\"showlegend\":false,\"textposition\":\"auto\",\"x\":[\"0xCeA85acE606Ef0a2166c9DE211C5a2aF4d14590B\",\"0xCCCD64Fd8976A03AE897fAd97249e01fB9170eb6\",\"0xda0DF05Be32a391c23cf4A714b606A9109527EA4\",\"0x2Bf7cD06a44E01cC94a0F7B9Dc8b57c6A2d15157\",\"0x8fDf8C2DAA5D99299d59a1513DCEdB0106aaba3D\",\"0xC09805B19d17926ba3822c5757d2b8E6865A906a\",\"0x0653441ab038D44E1D8C85f1d0D805e8270FFe4f\",\"0x430997CF1b506EBF228734ED434A6C6ABD594f53\",\"0xC0cD528477Cf84BABDD4C86889C86B157f529D20\",\"0x4Ae04bdb0c084b507fb5740bbD6eB6C37f6B7778\",\"0xab32FA260b024b5db6bBe8D0983E9aC3fcd1a221\",\"0x33eBB62DC9ddBf6B8F3C0efdF5BccC2e7AC60211\",\"0xC77A55ABb91E7cDEb810748Cb1fBC5De8f36a7b7\",\"0xFd71d918A79649A3947C954217877E4bdF8d26ED\",\"0x345c34A6aE1524D4fCD9AAfbefa51086baE9b991\",\"0xC8707623CDb85Cc56E275A8556dB2FE76fAdafFc\",\"0xf9FE5e5452EAEc284A3f57A4BFCDc873F2930F9a\",\"0x36E0bC78595063cEc14caD617647701B3C9E0c31\",\"0x2E5322b59a2D5c982BE103fCcc05EB182AD9BcE3\",\"0x00d65Da4e75D119fceb382C151f519D6B5E97a4A\",\"0xaB0376dF9782b8B3CdCde16D353CE489974B8940\",\"0xd23fB90e652b7Ebf605163b4A6AF34f9159aD9A3\",\"0x4716a689a7b1378884CD1a1f200c110CBED0bC55\",\"0xeDa0ec743c3AA01b5451Dc8aE70aC9c3D208d7aB\",\"0x74DC71b8fF1377891f730ae0A205034f4aCDC9F6\",\"0xda55a246f0c3Bf5b2153943275Ea509200D66376\",\"0xDA755d290ed76757A0A2B57c031c38770b2ecE91\",\"0xaAFbA492437Cc40Dd8cBC81D91d0D58b6d93E45c\"],\"xaxis\":\"x\",\"y\":[54,29,25,21,20,18,16,15,12,12,11,11,10,9,9,9,9,9,8,8,8,8,8,8,8,7,7,7],\"yaxis\":\"y\",\"type\":\"bar\"}],                        {\"template\":{\"data\":{\"bar\":[{\"error_x\":{\"color\":\"#2a3f5f\"},\"error_y\":{\"color\":\"#2a3f5f\"},\"marker\":{\"line\":{\"color\":\"#E5ECF6\",\"width\":0.5},\"pattern\":{\"fillmode\":\"overlay\",\"size\":10,\"solidity\":0.2}},\"type\":\"bar\"}],\"barpolar\":[{\"marker\":{\"line\":{\"color\":\"#E5ECF6\",\"width\":0.5},\"pattern\":{\"fillmode\":\"overlay\",\"size\":10,\"solidity\":0.2}},\"type\":\"barpolar\"}],\"carpet\":[{\"aaxis\":{\"endlinecolor\":\"#2a3f5f\",\"gridcolor\":\"white\",\"linecolor\":\"white\",\"minorgridcolor\":\"white\",\"startlinecolor\":\"#2a3f5f\"},\"baxis\":{\"endlinecolor\":\"#2a3f5f\",\"gridcolor\":\"white\",\"linecolor\":\"white\",\"minorgridcolor\":\"white\",\"startlinecolor\":\"#2a3f5f\"},\"type\":\"carpet\"}],\"choropleth\":[{\"colorbar\":{\"outlinewidth\":0,\"ticks\":\"\"},\"type\":\"choropleth\"}],\"contour\":[{\"colorbar\":{\"outlinewidth\":0,\"ticks\":\"\"},\"colorscale\":[[0.0,\"#0d0887\"],[0.1111111111111111,\"#46039f\"],[0.2222222222222222,\"#7201a8\"],[0.3333333333333333,\"#9c179e\"],[0.4444444444444444,\"#bd3786\"],[0.5555555555555556,\"#d8576b\"],[0.6666666666666666,\"#ed7953\"],[0.7777777777777778,\"#fb9f3a\"],[0.8888888888888888,\"#fdca26\"],[1.0,\"#f0f921\"]],\"type\":\"contour\"}],\"contourcarpet\":[{\"colorbar\":{\"outlinewidth\":0,\"ticks\":\"\"},\"type\":\"contourcarpet\"}],\"heatmap\":[{\"colorbar\":{\"outlinewidth\":0,\"ticks\":\"\"},\"colorscale\":[[0.0,\"#0d0887\"],[0.1111111111111111,\"#46039f\"],[0.2222222222222222,\"#7201a8\"],[0.3333333333333333,\"#9c179e\"],[0.4444444444444444,\"#bd3786\"],[0.5555555555555556,\"#d8576b\"],[0.6666666666666666,\"#ed7953\"],[0.7777777777777778,\"#fb9f3a\"],[0.8888888888888888,\"#fdca26\"],[1.0,\"#f0f921\"]],\"type\":\"heatmap\"}],\"heatmapgl\":[{\"colorbar\":{\"outlinewidth\":0,\"ticks\":\"\"},\"colorscale\":[[0.0,\"#0d0887\"],[0.1111111111111111,\"#46039f\"],[0.2222222222222222,\"#7201a8\"],[0.3333333333333333,\"#9c179e\"],[0.4444444444444444,\"#bd3786\"],[0.5555555555555556,\"#d8576b\"],[0.6666666666666666,\"#ed7953\"],[0.7777777777777778,\"#fb9f3a\"],[0.8888888888888888,\"#fdca26\"],[1.0,\"#f0f921\"]],\"type\":\"heatmapgl\"}],\"histogram\":[{\"marker\":{\"pattern\":{\"fillmode\":\"overlay\",\"size\":10,\"solidity\":0.2}},\"type\":\"histogram\"}],\"histogram2d\":[{\"colorbar\":{\"outlinewidth\":0,\"ticks\":\"\"},\"colorscale\":[[0.0,\"#0d0887\"],[0.1111111111111111,\"#46039f\"],[0.2222222222222222,\"#7201a8\"],[0.3333333333333333,\"#9c179e\"],[0.4444444444444444,\"#bd3786\"],[0.5555555555555556,\"#d8576b\"],[0.6666666666666666,\"#ed7953\"],[0.7777777777777778,\"#fb9f3a\"],[0.8888888888888888,\"#fdca26\"],[1.0,\"#f0f921\"]],\"type\":\"histogram2d\"}],\"histogram2dcontour\":[{\"colorbar\":{\"outlinewidth\":0,\"ticks\":\"\"},\"colorscale\":[[0.0,\"#0d0887\"],[0.1111111111111111,\"#46039f\"],[0.2222222222222222,\"#7201a8\"],[0.3333333333333333,\"#9c179e\"],[0.4444444444444444,\"#bd3786\"],[0.5555555555555556,\"#d8576b\"],[0.6666666666666666,\"#ed7953\"],[0.7777777777777778,\"#fb9f3a\"],[0.8888888888888888,\"#fdca26\"],[1.0,\"#f0f921\"]],\"type\":\"histogram2dcontour\"}],\"mesh3d\":[{\"colorbar\":{\"outlinewidth\":0,\"ticks\":\"\"},\"type\":\"mesh3d\"}],\"parcoords\":[{\"line\":{\"colorbar\":{\"outlinewidth\":0,\"ticks\":\"\"}},\"type\":\"parcoords\"}],\"pie\":[{\"automargin\":true,\"type\":\"pie\"}],\"scatter\":[{\"marker\":{\"colorbar\":{\"outlinewidth\":0,\"ticks\":\"\"}},\"type\":\"scatter\"}],\"scatter3d\":[{\"line\":{\"colorbar\":{\"outlinewidth\":0,\"ticks\":\"\"}},\"marker\":{\"colorbar\":{\"outlinewidth\":0,\"ticks\":\"\"}},\"type\":\"scatter3d\"}],\"scattercarpet\":[{\"marker\":{\"colorbar\":{\"outlinewidth\":0,\"ticks\":\"\"}},\"type\":\"scattercarpet\"}],\"scattergeo\":[{\"marker\":{\"colorbar\":{\"outlinewidth\":0,\"ticks\":\"\"}},\"type\":\"scattergeo\"}],\"scattergl\":[{\"marker\":{\"colorbar\":{\"outlinewidth\":0,\"ticks\":\"\"}},\"type\":\"scattergl\"}],\"scattermapbox\":[{\"marker\":{\"colorbar\":{\"outlinewidth\":0,\"ticks\":\"\"}},\"type\":\"scattermapbox\"}],\"scatterpolar\":[{\"marker\":{\"colorbar\":{\"outlinewidth\":0,\"ticks\":\"\"}},\"type\":\"scatterpolar\"}],\"scatterpolargl\":[{\"marker\":{\"colorbar\":{\"outlinewidth\":0,\"ticks\":\"\"}},\"type\":\"scatterpolargl\"}],\"scatterternary\":[{\"marker\":{\"colorbar\":{\"outlinewidth\":0,\"ticks\":\"\"}},\"type\":\"scatterternary\"}],\"surface\":[{\"colorbar\":{\"outlinewidth\":0,\"ticks\":\"\"},\"colorscale\":[[0.0,\"#0d0887\"],[0.1111111111111111,\"#46039f\"],[0.2222222222222222,\"#7201a8\"],[0.3333333333333333,\"#9c179e\"],[0.4444444444444444,\"#bd3786\"],[0.5555555555555556,\"#d8576b\"],[0.6666666666666666,\"#ed7953\"],[0.7777777777777778,\"#fb9f3a\"],[0.8888888888888888,\"#fdca26\"],[1.0,\"#f0f921\"]],\"type\":\"surface\"}],\"table\":[{\"cells\":{\"fill\":{\"color\":\"#EBF0F8\"},\"line\":{\"color\":\"white\"}},\"header\":{\"fill\":{\"color\":\"#C8D4E3\"},\"line\":{\"color\":\"white\"}},\"type\":\"table\"}]},\"layout\":{\"annotationdefaults\":{\"arrowcolor\":\"#2a3f5f\",\"arrowhead\":0,\"arrowwidth\":1},\"autotypenumbers\":\"strict\",\"coloraxis\":{\"colorbar\":{\"outlinewidth\":0,\"ticks\":\"\"}},\"colorscale\":{\"diverging\":[[0,\"#8e0152\"],[0.1,\"#c51b7d\"],[0.2,\"#de77ae\"],[0.3,\"#f1b6da\"],[0.4,\"#fde0ef\"],[0.5,\"#f7f7f7\"],[0.6,\"#e6f5d0\"],[0.7,\"#b8e186\"],[0.8,\"#7fbc41\"],[0.9,\"#4d9221\"],[1,\"#276419\"]],\"sequential\":[[0.0,\"#0d0887\"],[0.1111111111111111,\"#46039f\"],[0.2222222222222222,\"#7201a8\"],[0.3333333333333333,\"#9c179e\"],[0.4444444444444444,\"#bd3786\"],[0.5555555555555556,\"#d8576b\"],[0.6666666666666666,\"#ed7953\"],[0.7777777777777778,\"#fb9f3a\"],[0.8888888888888888,\"#fdca26\"],[1.0,\"#f0f921\"]],\"sequentialminus\":[[0.0,\"#0d0887\"],[0.1111111111111111,\"#46039f\"],[0.2222222222222222,\"#7201a8\"],[0.3333333333333333,\"#9c179e\"],[0.4444444444444444,\"#bd3786\"],[0.5555555555555556,\"#d8576b\"],[0.6666666666666666,\"#ed7953\"],[0.7777777777777778,\"#fb9f3a\"],[0.8888888888888888,\"#fdca26\"],[1.0,\"#f0f921\"]]},\"colorway\":[\"#636efa\",\"#EF553B\",\"#00cc96\",\"#ab63fa\",\"#FFA15A\",\"#19d3f3\",\"#FF6692\",\"#B6E880\",\"#FF97FF\",\"#FECB52\"],\"font\":{\"color\":\"#2a3f5f\"},\"geo\":{\"bgcolor\":\"white\",\"lakecolor\":\"white\",\"landcolor\":\"#E5ECF6\",\"showlakes\":true,\"showland\":true,\"subunitcolor\":\"white\"},\"hoverlabel\":{\"align\":\"left\"},\"hovermode\":\"closest\",\"mapbox\":{\"style\":\"light\"},\"paper_bgcolor\":\"white\",\"plot_bgcolor\":\"#E5ECF6\",\"polar\":{\"angularaxis\":{\"gridcolor\":\"white\",\"linecolor\":\"white\",\"ticks\":\"\"},\"bgcolor\":\"#E5ECF6\",\"radialaxis\":{\"gridcolor\":\"white\",\"linecolor\":\"white\",\"ticks\":\"\"}},\"scene\":{\"xaxis\":{\"backgroundcolor\":\"#E5ECF6\",\"gridcolor\":\"white\",\"gridwidth\":2,\"linecolor\":\"white\",\"showbackground\":true,\"ticks\":\"\",\"zerolinecolor\":\"white\"},\"yaxis\":{\"backgroundcolor\":\"#E5ECF6\",\"gridcolor\":\"white\",\"gridwidth\":2,\"linecolor\":\"white\",\"showbackground\":true,\"ticks\":\"\",\"zerolinecolor\":\"white\"},\"zaxis\":{\"backgroundcolor\":\"#E5ECF6\",\"gridcolor\":\"white\",\"gridwidth\":2,\"linecolor\":\"white\",\"showbackground\":true,\"ticks\":\"\",\"zerolinecolor\":\"white\"}},\"shapedefaults\":{\"line\":{\"color\":\"#2a3f5f\"}},\"ternary\":{\"aaxis\":{\"gridcolor\":\"white\",\"linecolor\":\"white\",\"ticks\":\"\"},\"baxis\":{\"gridcolor\":\"white\",\"linecolor\":\"white\",\"ticks\":\"\"},\"bgcolor\":\"#E5ECF6\",\"caxis\":{\"gridcolor\":\"white\",\"linecolor\":\"white\",\"ticks\":\"\"}},\"title\":{\"x\":0.05},\"xaxis\":{\"automargin\":true,\"gridcolor\":\"white\",\"linecolor\":\"white\",\"ticks\":\"\",\"title\":{\"standoff\":15},\"zerolinecolor\":\"white\",\"zerolinewidth\":2},\"yaxis\":{\"automargin\":true,\"gridcolor\":\"white\",\"linecolor\":\"white\",\"ticks\":\"\",\"title\":{\"standoff\":15},\"zerolinecolor\":\"white\",\"zerolinewidth\":2}}},\"xaxis\":{\"anchor\":\"y\",\"domain\":[0.0,1.0],\"title\":{\"text\":\"owner\"},\"tickmode\":\"array\",\"tickvals\":[0,1,2,3,4,5,6,7,8,9,10,11,12,13,14,15,16,17,18,19,20,21,22,23,24,25,26,27],\"ticktext\":[\"0xCeA85\",\"0xCCCD6\",\"0xda0DF\",\"0x2Bf7c\",\"0x8fDf8\",\"0xC0980\",\"0x06534\",\"0x43099\",\"0xC0cD5\",\"0x4Ae04\",\"0xab32F\",\"0x33eBB\",\"0xC77A5\",\"0xFd71d\",\"0x345c3\",\"0xC8707\",\"0xf9FE5\",\"0x36E0b\",\"0x2E532\",\"0x00d65\",\"0xaB037\",\"0xd23fB\",\"0x4716a\",\"0xeDa0e\",\"0x74DC7\",\"0xda55a\",\"0xDA755\",\"0xaAFbA\",\"0xE8a4B\",\"0x4C7EA\",\"0xD7866\",\"0x734a2\",\"0x49dE6\",\"0x5CfEe\",\"0x2c99f\",\"0x3B99E\",\"0x3cB0A\",\"0xaF899\",\"0x8968E\",\"0xFe588\",\"0x54D82\",\"0x91E2b\",\"0x8911D\",\"0x7391c\",\"0x200FD\",\"0xAfeF1\",\"0xf0c4d\",\"0xf78fA\",\"0x7656f\",\"0x80E59\",\"0xB2f4C\",\"0x8D215\",\"0x2C575\",\"0xC3Ccc\",\"0x49ddD\",\"0x6Cf04\",\"0x139Cf\",\"0xE0b5C\",\"0x55476\",\"0x1ffc7\",\"0x0d42a\",\"0xd015E\",\"0x70013\",\"0xc8261\",\"0x50B8b\",\"0x674Ef\",\"0x826B0\",\"0x863d4\",\"0x89ddE\",\"0x616D5\",\"0x60e54\",\"0x8B2b1\",\"0x60c01\",\"0x5c0c4\",\"0x67958\",\"0x761a7\",\"0x804A9\",\"0x79201\",\"0x6F418\",\"0x7dd4b\",\"0x6c148\",\"0x6c8eD\",\"0x7D5A1\",\"0x7D1D1\",\"0x79f1D\",\"0x70178\",\"0x701B2\",\"0x715B4\",\"0x72419\",\"0x8F321\",\"0x8DD6e\",\"0xf1bf2\",\"0xfAEac\",\"0xf51b7\",\"0xF47Be\",\"0xF5B78\",\"0xF5b2A\",\"0xFa91f\",\"0xa0674\",\"0xa3B64\",\"0xa9707\",\"0xb7265\",\"0xb8a6b\",\"0xbD942\",\"0xEc113\",\"0xbf837\",\"0xc8Cf1\",\"0xc9119\",\"0xd36Eb\",\"0xf3f15\",\"0xe61D6\",\"0xe866d\",\"0xeE27E\",\"0xecb6C\",\"0xF1379\",\"0xE4E6a\",\"0x9160C\",\"0xABf75\",\"0x91690\",\"0x94a04\",\"0x97687\",\"0x98dcF\",\"0x9A211\",\"0x9DCF1\",\"0x9dbB5\",\"0xA0931\",\"0xA6393\",\"0xB2BC7\",\"0xE4946\",\"0xB6226\",\"0xBdF45\",\"0x58225\",\"0xC11B1\",\"0xC923d\",\"0xf97B8\",\"0xCDf4f\",\"0xD0D0A\",\"0xD673e\",\"0xB1071\",\"0x00445\",\"0x3bFD3\",\"0x4C888\",\"0x19Da1\",\"0x53031\",\"0x0eC0a\",\"0x50f78\",\"0x50bB7\",\"0x301D4\",\"0x506dF\",\"0x4b11d\",\"0x25365\",\"0x1955f\",\"0x40ec5\",\"0x2cC4e\",\"0x413D1\",\"0x21DF8\",\"0x420EB\",\"0x31E1a\",\"0x48f15\",\"0x13064\",\"0x169ba\",\"0x23174\",\"0x44Bfb\",\"0x30709\",\"0x3B763\",\"0x1615f\",\"0x3A047\",\"0x1f721\",\"0x1bC83\",\"0x1Cfbf\",\"0x27F68\",\"0x36D27\",\"0x1f0d3\",\"0x53946\",\"0x53a66\",\"0x07A28\",\"0x9C394\",\"0xE7679\",\"0xFFdB7\",\"0xA6003\",\"0xF74f5\",\"0xB5A0f\",\"0xB187D\",\"0xF83EA\",\"0xFDB38\",\"0xB0B0C\",\"0xb643f\",\"0xc662f\",\"0xb36A1\",\"0x99176\",\"0xaE793\",\"0x36f87\",\"0xD0c61\",\"0x9011A\",\"0x9516d\",\"0x3e051\",\"0x376A8\",\"0x8BC7e\",\"0x8Cac1\",\"0x196a3\",\"0xADc58\",\"0x15add\",\"0x3ae2b\",\"0x1B898\",\"0x376D3\",\"0xa410A\",\"0x19412\",\"0x56ca5\",\"0x4ea1b\",\"0xe0646\",\"0xe34B0\",\"0x3049c\",\"0xcD2D0\",\"0x5094d\",\"0xC0e33\",\"0x6C7Bd\",\"0xC1952\",\"0xC37c3\",\"0x07745\",\"0xf5d44\",\"0x063b8\",\"0x28d09\",\"0xD5d41\",\"0x5e013\",\"0x5c254\",\"0x5F8e7\",\"0xD049B\",\"0xD04C3\",\"0x56150\",\"0xfdEB3\",\"0x5838b\",\"0xe2b66\",\"0x9a49A\",\"0xDDC67\",\"0x7Bb97\",\"0xdafa3\",\"0xE211A\",\"0x798e9\",\"0xdC407\",\"0xd8341\",\"0xd35C1\",\"0xF8779\",\"0xcD981\",\"0xBb711\",\"0xDF939\"]},\"yaxis\":{\"anchor\":\"x\",\"domain\":[0.0,1.0],\"title\":{\"text\":\"count\"}},\"coloraxis\":{\"colorbar\":{\"title\":{\"text\":\"count\"}},\"colorscale\":[[0.0,\"#0d0887\"],[0.1111111111111111,\"#46039f\"],[0.2222222222222222,\"#7201a8\"],[0.3333333333333333,\"#9c179e\"],[0.4444444444444444,\"#bd3786\"],[0.5555555555555556,\"#d8576b\"],[0.6666666666666666,\"#ed7953\"],[0.7777777777777778,\"#fb9f3a\"],[0.8888888888888888,\"#fdca26\"],[1.0,\"#f0f921\"]]},\"legend\":{\"tracegroupgap\":0},\"margin\":{\"t\":60},\"barmode\":\"relative\"},                        {\"responsive\": true}                    ).then(function(){\n",
       "                            \n",
       "var gd = document.getElementById('abf7b7fe-a334-45e8-8880-71d906ffbe87');\n",
       "var x = new MutationObserver(function (mutations, observer) {{\n",
       "        var display = window.getComputedStyle(gd).display;\n",
       "        if (!display || display === 'none') {{\n",
       "            console.log([gd, 'removed!']);\n",
       "            Plotly.purge(gd);\n",
       "            observer.disconnect();\n",
       "        }}\n",
       "}});\n",
       "\n",
       "// Listen for the removal of the full notebook cells\n",
       "var notebookContainer = gd.closest('#notebook-container');\n",
       "if (notebookContainer) {{\n",
       "    x.observe(notebookContainer, {childList: true});\n",
       "}}\n",
       "\n",
       "// Listen for the clearing of the current output cell\n",
       "var outputEl = gd.closest('.output');\n",
       "if (outputEl) {{\n",
       "    x.observe(outputEl, {childList: true});\n",
       "}}\n",
       "\n",
       "                        })                };                });            </script>        </div>"
      ]
     },
     "metadata": {},
     "output_type": "display_data"
    }
   ],
   "source": [
    "fig = px.bar(\n",
    "    mt7crabs,\n",
    "    x=\"owner\",\n",
    "    y=\"count\",\n",
    "    color=\"count\"\n",
    ")\n",
    "# overwrite tick labels    \n",
    "fig.update_layout(\n",
    "    xaxis = {\n",
    "     'tickmode': 'array',\n",
    "     'tickvals': list(range(len(mt7crabs))),\n",
    "     'ticktext': mt2crabs[\"owner\"].str.slice(stop=7).to_list(),\n",
    "    }\n",
    ")\n",
    "fig.show()"
   ]
  },
  {
   "cell_type": "code",
   "execution_count": null,
   "id": "3411958c",
   "metadata": {
    "scrolled": false
   },
   "outputs": [],
   "source": [
    "# requests.get(\"https://idle-api.crabada.com/public/idle/mines?user_address={wallet}&status=close&limit=10000\".format(\n",
    "#                     wallet=\"0xCeA85acE606Ef0a2166c9DE211C5a2aF4d14590B\"\n",
    "#                 )\n",
    "#             ).json()"
   ]
  },
  {
   "cell_type": "markdown",
   "id": "09dff21f",
   "metadata": {},
   "source": [
    "### Crabs"
   ]
  },
  {
   "cell_type": "code",
   "execution_count": 75,
   "id": "a447559a",
   "metadata": {},
   "outputs": [
    {
     "data": {
      "text/html": [
       "<div>\n",
       "<style scoped>\n",
       "    .dataframe tbody tr th:only-of-type {\n",
       "        vertical-align: middle;\n",
       "    }\n",
       "\n",
       "    .dataframe tbody tr th {\n",
       "        vertical-align: top;\n",
       "    }\n",
       "\n",
       "    .dataframe thead th {\n",
       "        text-align: right;\n",
       "    }\n",
       "</style>\n",
       "<table border=\"1\" class=\"dataframe\">\n",
       "  <thead>\n",
       "    <tr style=\"text-align: right;\">\n",
       "      <th></th>\n",
       "      <th>birthday</th>\n",
       "      <th>class</th>\n",
       "      <th>pure</th>\n",
       "      <th>legend</th>\n",
       "      <th>origin</th>\n",
       "      <th>genesis</th>\n",
       "      <th>hp</th>\n",
       "      <th>speed</th>\n",
       "      <th>damage</th>\n",
       "      <th>armor</th>\n",
       "      <th>critical</th>\n",
       "      <th>owner</th>\n",
       "    </tr>\n",
       "  </thead>\n",
       "  <tbody>\n",
       "    <tr>\n",
       "      <th>1</th>\n",
       "      <td>1.635778e+09</td>\n",
       "      <td>SURGE</td>\n",
       "      <td>6.0</td>\n",
       "      <td>0.0</td>\n",
       "      <td>1.0</td>\n",
       "      <td>1.0</td>\n",
       "      <td>150.0</td>\n",
       "      <td>26.0</td>\n",
       "      <td>50.0</td>\n",
       "      <td>37.0</td>\n",
       "      <td>39.0</td>\n",
       "      <td>0xb95afB5318E340F3aFDF2ddE2D9c3Fc041C6aE2d</td>\n",
       "    </tr>\n",
       "    <tr>\n",
       "      <th>2</th>\n",
       "      <td>1.635778e+09</td>\n",
       "      <td>SURGE</td>\n",
       "      <td>6.0</td>\n",
       "      <td>0.0</td>\n",
       "      <td>1.0</td>\n",
       "      <td>1.0</td>\n",
       "      <td>150.0</td>\n",
       "      <td>26.0</td>\n",
       "      <td>50.0</td>\n",
       "      <td>37.0</td>\n",
       "      <td>39.0</td>\n",
       "      <td>0xb95afB5318E340F3aFDF2ddE2D9c3Fc041C6aE2d</td>\n",
       "    </tr>\n",
       "    <tr>\n",
       "      <th>3</th>\n",
       "      <td>1.635778e+09</td>\n",
       "      <td>SURGE</td>\n",
       "      <td>6.0</td>\n",
       "      <td>0.0</td>\n",
       "      <td>1.0</td>\n",
       "      <td>1.0</td>\n",
       "      <td>150.0</td>\n",
       "      <td>26.0</td>\n",
       "      <td>50.0</td>\n",
       "      <td>37.0</td>\n",
       "      <td>39.0</td>\n",
       "      <td>0xb95afB5318E340F3aFDF2ddE2D9c3Fc041C6aE2d</td>\n",
       "    </tr>\n",
       "    <tr>\n",
       "      <th>4</th>\n",
       "      <td>1.635778e+09</td>\n",
       "      <td>SURGE</td>\n",
       "      <td>6.0</td>\n",
       "      <td>0.0</td>\n",
       "      <td>1.0</td>\n",
       "      <td>1.0</td>\n",
       "      <td>150.0</td>\n",
       "      <td>26.0</td>\n",
       "      <td>50.0</td>\n",
       "      <td>37.0</td>\n",
       "      <td>39.0</td>\n",
       "      <td>0xb95afB5318E340F3aFDF2ddE2D9c3Fc041C6aE2d</td>\n",
       "    </tr>\n",
       "    <tr>\n",
       "      <th>5</th>\n",
       "      <td>1.635778e+09</td>\n",
       "      <td>SURGE</td>\n",
       "      <td>6.0</td>\n",
       "      <td>0.0</td>\n",
       "      <td>1.0</td>\n",
       "      <td>1.0</td>\n",
       "      <td>150.0</td>\n",
       "      <td>26.0</td>\n",
       "      <td>50.0</td>\n",
       "      <td>37.0</td>\n",
       "      <td>39.0</td>\n",
       "      <td>0xb95afB5318E340F3aFDF2ddE2D9c3Fc041C6aE2d</td>\n",
       "    </tr>\n",
       "  </tbody>\n",
       "</table>\n",
       "</div>"
      ],
      "text/plain": [
       "       birthday  class  pure  legend  origin  genesis     hp  speed  damage  \\\n",
       "1  1.635778e+09  SURGE   6.0     0.0     1.0      1.0  150.0   26.0    50.0   \n",
       "2  1.635778e+09  SURGE   6.0     0.0     1.0      1.0  150.0   26.0    50.0   \n",
       "3  1.635778e+09  SURGE   6.0     0.0     1.0      1.0  150.0   26.0    50.0   \n",
       "4  1.635778e+09  SURGE   6.0     0.0     1.0      1.0  150.0   26.0    50.0   \n",
       "5  1.635778e+09  SURGE   6.0     0.0     1.0      1.0  150.0   26.0    50.0   \n",
       "\n",
       "   armor  critical                                       owner  \n",
       "1   37.0      39.0  0xb95afB5318E340F3aFDF2ddE2D9c3Fc041C6aE2d  \n",
       "2   37.0      39.0  0xb95afB5318E340F3aFDF2ddE2D9c3Fc041C6aE2d  \n",
       "3   37.0      39.0  0xb95afB5318E340F3aFDF2ddE2D9c3Fc041C6aE2d  \n",
       "4   37.0      39.0  0xb95afB5318E340F3aFDF2ddE2D9c3Fc041C6aE2d  \n",
       "5   37.0      39.0  0xb95afB5318E340F3aFDF2ddE2D9c3Fc041C6aE2d  "
      ]
     },
     "execution_count": 75,
     "metadata": {},
     "output_type": "execute_result"
    }
   ],
   "source": [
    "crabNowners = crabs_df.join(owners_df)\n",
    "crabNowners.head()"
   ]
  },
  {
   "cell_type": "code",
   "execution_count": null,
   "id": "5e7a96df",
   "metadata": {},
   "outputs": [],
   "source": []
  }
 ],
 "metadata": {
  "kernelspec": {
   "display_name": "Python 3 (ipykernel)",
   "language": "python",
   "name": "python3"
  },
  "language_info": {
   "codemirror_mode": {
    "name": "ipython",
    "version": 3
   },
   "file_extension": ".py",
   "mimetype": "text/x-python",
   "name": "python",
   "nbconvert_exporter": "python",
   "pygments_lexer": "ipython3",
   "version": "3.9.7"
  }
 },
 "nbformat": 4,
 "nbformat_minor": 5
}
