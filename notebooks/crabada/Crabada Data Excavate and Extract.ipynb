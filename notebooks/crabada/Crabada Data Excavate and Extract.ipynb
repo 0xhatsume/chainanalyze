{
 "cells": [
  {
   "cell_type": "markdown",
   "id": "294cde04",
   "metadata": {},
   "source": [
    "## Notes"
   ]
  },
  {
   "cell_type": "markdown",
   "id": "152604fc",
   "metadata": {},
   "source": [
    "For notes refer to: [readme.md](readme.md) (with a markdown viewer of course)"
   ]
  },
  {
   "cell_type": "markdown",
   "id": "72d4f238",
   "metadata": {
    "heading_collapsed": true
   },
   "source": [
    "## Libraries"
   ]
  },
  {
   "cell_type": "code",
   "execution_count": 1,
   "id": "985e5b72",
   "metadata": {
    "ExecuteTime": {
     "end_time": "2021-12-13T03:14:19.515935Z",
     "start_time": "2021-12-13T03:14:18.949206Z"
    },
    "hidden": true
   },
   "outputs": [],
   "source": [
    "from web3 import Web3\n",
    "from web3.middleware import geth_poa_middleware"
   ]
  },
  {
   "cell_type": "code",
   "execution_count": 2,
   "id": "28db067e",
   "metadata": {
    "ExecuteTime": {
     "end_time": "2021-12-13T03:14:19.521152Z",
     "start_time": "2021-12-13T03:14:19.518452Z"
    },
    "hidden": true
   },
   "outputs": [],
   "source": [
    "import os\n",
    "import json\n",
    "import requests"
   ]
  },
  {
   "cell_type": "code",
   "execution_count": 3,
   "id": "e67bcfea",
   "metadata": {
    "ExecuteTime": {
     "end_time": "2021-12-13T06:10:09.266972Z",
     "start_time": "2021-12-13T06:10:08.576986Z"
    },
    "hidden": true
   },
   "outputs": [],
   "source": [
    "import numpy as np\n",
    "import pandas as pd"
   ]
  },
  {
   "cell_type": "code",
   "execution_count": 4,
   "id": "f0aac182",
   "metadata": {
    "ExecuteTime": {
     "end_time": "2021-12-13T06:32:48.063431Z",
     "start_time": "2021-12-13T06:32:48.060590Z"
    },
    "hidden": true
   },
   "outputs": [],
   "source": [
    "from tqdm.notebook import tqdm, trange\n",
    "import time"
   ]
  },
  {
   "cell_type": "markdown",
   "id": "dec968d2",
   "metadata": {},
   "source": [
    "## Inits"
   ]
  },
  {
   "cell_type": "markdown",
   "id": "17033fde",
   "metadata": {
    "heading_collapsed": true
   },
   "source": [
    "### envs"
   ]
  },
  {
   "cell_type": "markdown",
   "id": "23059c18",
   "metadata": {},
   "source": [
    "### Web3"
   ]
  },
  {
   "cell_type": "code",
   "execution_count": 21,
   "id": "5b3c5860",
   "metadata": {
    "ExecuteTime": {
     "end_time": "2021-12-13T06:08:08.836064Z",
     "start_time": "2021-12-13T06:08:08.597715Z"
    }
   },
   "outputs": [
    {
     "data": {
      "text/plain": [
       "True"
      ]
     },
     "execution_count": 21,
     "metadata": {},
     "output_type": "execute_result"
    }
   ],
   "source": [
    "w3 = Web3(Web3.HTTPProvider(\"https://api.avax.network/ext/bc/C/rpc\"))\n",
    "w3.middleware_onion.inject(geth_poa_middleware, layer=0)\n",
    "w3.isConnected()"
   ]
  },
  {
   "cell_type": "markdown",
   "id": "fc8d6e08",
   "metadata": {},
   "source": [
    "### Addresses"
   ]
  },
  {
   "cell_type": "code",
   "execution_count": 22,
   "id": "9dbfb61b",
   "metadata": {
    "ExecuteTime": {
     "end_time": "2021-12-13T06:08:15.466306Z",
     "start_time": "2021-12-13T06:08:15.461548Z"
    }
   },
   "outputs": [],
   "source": [
    "cra = w3.toChecksumAddress(\"0xa32608e873f9ddef944b24798db69d80bbb4d1ed\")\n",
    "tus = w3.toChecksumAddress(\"0xf693248f96fe03422fea95ac0afbbbc4a8fdd172\")\n",
    "crabada=w3.toChecksumAddress(\"0x1b7966315ef0259de890f38f1bdb95acc03cacdd\")\n",
    "marketplace=w3.toChecksumAddress(\"0x7E8DEef5bb861cF158d8BdaAa1c31f7B49922F49\")\n",
    "game=w3.toChecksumAddress(\"0x82a85407BD612f52577909F4A58bfC6873f14DA8\")"
   ]
  },
  {
   "cell_type": "markdown",
   "id": "18e3822d",
   "metadata": {},
   "source": [
    "## Function Methods"
   ]
  },
  {
   "cell_type": "markdown",
   "id": "33d9dbd6",
   "metadata": {},
   "source": [
    "### Crabada: 0x1b7966315ef0259de890f38f1bdb95acc03cacdd"
   ]
  },
  {
   "cell_type": "markdown",
   "id": "0016b174",
   "metadata": {},
   "source": [
    "- 0x1a46e42a: cancelSellOrder(uint256)\n",
    "- 0xb88d4fde: safeTransferFrom(address,address,uint256,bytes)\n",
    "- 0x598b8e71: deposit(uint256[] amounts)\n",
    "- 0xc70f5eaa: buyCard(uint256)\n",
    "- 0xd9ecad7b: breed(uint256,uint256)\n",
    "- 0x8293744b: "
   ]
  },
  {
   "cell_type": "markdown",
   "id": "1de7700e",
   "metadata": {},
   "source": [
    "## Web3 Queries"
   ]
  },
  {
   "cell_type": "markdown",
   "id": "169d1275",
   "metadata": {},
   "source": [
    "### contract and abis"
   ]
  },
  {
   "cell_type": "markdown",
   "id": "c6163d7c",
   "metadata": {},
   "source": [
    "Should be atleast ERC721, ERC721Enumerable."
   ]
  },
  {
   "cell_type": "code",
   "execution_count": 23,
   "id": "19e20dc0",
   "metadata": {
    "ExecuteTime": {
     "end_time": "2021-12-13T06:08:22.944530Z",
     "start_time": "2021-12-13T06:08:22.940972Z"
    }
   },
   "outputs": [],
   "source": [
    "abi = json.loads(\n",
    "'''\n",
    "[{\n",
    "\"inputs\": [], \"name\": \"totalSupply\", \n",
    "\"outputs\": [{\"internalType\": \"uint256\", \"name\": \"\", \"type\": \"uint256\"}], \n",
    "\"stateMutability\": \"view\", \n",
    "\"type\": \"function\"\n",
    "},\n",
    "{\n",
    "\"inputs\": [],\n",
    "\"name\": \"price\",\n",
    "\"outputs\": [{\"internalType\": \"uint256\", \"name\": \"\", \"type\": \"uint256\"}],\n",
    "\"stateMutability\": \"view\",\n",
    "\"type\": \"function\"\n",
    "},\n",
    "{\n",
    "\"inputs\": [{\"internalType\": \"uint256\", \"name\": \"tokenId\", \"type\": \"uint256\"}],\n",
    "\"name\": \"tokenURI\", \n",
    "\"outputs\": [{\"internalType\": \"string\", \"name\": \"\", \"type\": \"string\"}],\n",
    "\"stateMutability\": \"view\",\n",
    "\"type\": \"function\"\n",
    "},\n",
    "{\n",
    "\"constant\": true,\n",
    "\"inputs\": [{\"internalType\": \"uint256\", \"name\": \"tokenId\", \"type\": \"uint256\"}],\n",
    "\"name\": \"ownerOf\",\n",
    "\"outputs\": [{\"internalType\": \"address\", \"name\": \"\", \"type\": \"address\"}],\n",
    "\"payable\": false,\n",
    "\"stateMutability\": \"view\",\n",
    "\"type\": \"function\"\n",
    "}\n",
    "]\n",
    "''')"
   ]
  },
  {
   "cell_type": "code",
   "execution_count": 24,
   "id": "0dfdb6fa",
   "metadata": {
    "ExecuteTime": {
     "end_time": "2021-12-13T06:08:23.941428Z",
     "start_time": "2021-12-13T06:08:23.928435Z"
    },
    "scrolled": true
   },
   "outputs": [],
   "source": [
    "crabContract = w3.eth.contract(address=crabada, abi=abi)"
   ]
  },
  {
   "cell_type": "markdown",
   "id": "57f0b3fe",
   "metadata": {},
   "source": [
    "### contract calls"
   ]
  },
  {
   "cell_type": "markdown",
   "id": "a472db0f",
   "metadata": {},
   "source": [
    "#### Sample Calls and Data"
   ]
  },
  {
   "cell_type": "code",
   "execution_count": 9,
   "id": "22f37b13",
   "metadata": {
    "ExecuteTime": {
     "end_time": "2021-12-13T06:36:33.436053Z",
     "start_time": "2021-12-13T06:36:33.204329Z"
    }
   },
   "outputs": [
    {
     "data": {
      "text/plain": [
       "10018"
      ]
     },
     "execution_count": 9,
     "metadata": {},
     "output_type": "execute_result"
    }
   ],
   "source": [
    "# total supply\n",
    "crabContract.functions.totalSupply().call() #Findings"
   ]
  },
  {
   "cell_type": "code",
   "execution_count": 10,
   "id": "36aa1489",
   "metadata": {
    "ExecuteTime": {
     "end_time": "2021-12-13T06:36:30.351562Z",
     "start_time": "2021-12-13T06:36:30.053418Z"
    }
   },
   "outputs": [
    {
     "data": {
      "text/plain": [
       "'0xb95afB5318E340F3aFDF2ddE2D9c3Fc041C6aE2d'"
      ]
     },
     "execution_count": 10,
     "metadata": {},
     "output_type": "execute_result"
    }
   ],
   "source": [
    "# crab owner\n",
    "crabContract.functions.ownerOf(1).call()"
   ]
  },
  {
   "cell_type": "code",
   "execution_count": 11,
   "id": "d0709267",
   "metadata": {
    "ExecuteTime": {
     "end_time": "2021-12-13T06:08:27.292868Z",
     "start_time": "2021-12-13T06:08:27.032954Z"
    },
    "scrolled": false
   },
   "outputs": [
    {
     "data": {
      "text/plain": [
       "'https://api.crabada.com/public/crabada/info-json/1'"
      ]
     },
     "execution_count": 11,
     "metadata": {},
     "output_type": "execute_result"
    }
   ],
   "source": [
    "crabContract.functions.tokenURI(1).call()"
   ]
  },
  {
   "cell_type": "markdown",
   "id": "8307bf2b",
   "metadata": {},
   "source": [
    "{\"description\":\"906392544231311161076231617881117286073401978432969551146651717139041419521\",  \n",
    "\"external_url\":\"https://marketplace.crabada.com/crabada/1\",   \n",
    "\n",
    "\"image\":\"https://pro-crabada-photos.s3.ap-southeast-1.amazonaws.com/1.png\",  \n",
    "\"name\":\"Crabada 1\",  \n",
    "\"attributes\":[{\"display_type\":\"date\",\"trait_type\":\"birthday\",\"value\":1635777816},  \n",
    "{\"trait_type\":\"class\",\"value\":\"SURGE\"},  \n",
    "{\"trait_type\":\"pure\",\"value\":6},  \n",
    "{\"trait_type\":\"legend\",\"value\":0},  \n",
    "{\"trait_type\":\"origin\",\"value\":1},  \n",
    "{\"trait_type\":\"genesis\",\"value\":1},  \n",
    "{\"trait_type\":\"hp\",\"value\":150},  \n",
    "{\"trait_type\":\"speed\",\"value\":26},  \n",
    "{\"trait_type\":\"damage\",\"value\":50},  \n",
    "{\"trait_type\":\"armor\",\"value\":37},  \n",
    "{\"trait_type\":\"critical\",\"value\":39}]  \n",
    "}"
   ]
  },
  {
   "cell_type": "code",
   "execution_count": null,
   "id": "a2ac7d47",
   "metadata": {},
   "outputs": [],
   "source": [
    "#web3.eth.sendTransaction({'to': contractAddress, 'from': yourAddress, 'data': \"0x61455567\"})"
   ]
  },
  {
   "cell_type": "markdown",
   "id": "924c7267",
   "metadata": {},
   "source": [
    "#### Get Token to Owner List"
   ]
  },
  {
   "cell_type": "code",
   "execution_count": 95,
   "id": "d2a650a1",
   "metadata": {
    "ExecuteTime": {
     "end_time": "2021-12-13T06:37:16.700274Z",
     "start_time": "2021-12-13T06:37:16.455130Z"
    }
   },
   "outputs": [
    {
     "name": "stdout",
     "output_type": "stream",
     "text": [
      "10003\n"
     ]
    }
   ],
   "source": [
    "# prep a data frame of all token numbers\n",
    "df = pd.DataFrame(index=\\\n",
    "                  range(1,crabContract.functions.totalSupply().call()+1),\n",
    "                  columns=[\"owner\"]\n",
    "                 )\n",
    "print(df.size)"
   ]
  },
  {
   "cell_type": "code",
   "execution_count": 96,
   "id": "7819a49b",
   "metadata": {
    "ExecuteTime": {
     "end_time": "2021-12-13T07:20:28.478540Z",
     "start_time": "2021-12-13T06:38:33.226461Z"
    }
   },
   "outputs": [
    {
     "data": {
      "application/vnd.jupyter.widget-view+json": {
       "model_id": "7105716f963f4b7aa193a52023037d9d",
       "version_major": 2,
       "version_minor": 0
      },
      "text/plain": [
       "  0%|          | 0/10003 [00:00<?, ?it/s]"
      ]
     },
     "metadata": {},
     "output_type": "display_data"
    },
    {
     "name": "stdout",
     "output_type": "stream",
     "text": [
      "owner    0xb95afB5318E340F3aFDF2ddE2D9c3Fc041C6aE2d\n",
      "Name: 1, dtype: object\n",
      "owner    0x1fA283b8C14e2d33e699cCe56Bf32b7cb2DB67d8\n",
      "Name: 1000, dtype: object\n",
      "owner    0x8D215C82d88835BF3F36e9E84E14a078fAA3afA7\n",
      "Name: 2000, dtype: object\n",
      "owner    0x7E8DEef5bb861cF158d8BdaAa1c31f7B49922F49\n",
      "Name: 3000, dtype: object\n",
      "owner    0x82a85407BD612f52577909F4A58bfC6873f14DA8\n",
      "Name: 4000, dtype: object\n",
      "owner    0x1fA283b8C14e2d33e699cCe56Bf32b7cb2DB67d8\n",
      "Name: 5000, dtype: object\n",
      "owner    0x1fA283b8C14e2d33e699cCe56Bf32b7cb2DB67d8\n",
      "Name: 6000, dtype: object\n",
      "owner    0x82a85407BD612f52577909F4A58bfC6873f14DA8\n",
      "Name: 7000, dtype: object\n",
      "owner    0x82a85407BD612f52577909F4A58bfC6873f14DA8\n",
      "Name: 8000, dtype: object\n",
      "owner    0x82a85407BD612f52577909F4A58bfC6873f14DA8\n",
      "Name: 9000, dtype: object\n",
      "owner    0x2E5322b59a2D5c982BE103fCcc05EB182AD9BcE3\n",
      "Name: 10000, dtype: object\n"
     ]
    }
   ],
   "source": [
    "# Call contract to get owners for all Tokens\n",
    "for i in tqdm(df.index):\n",
    "    df[\"owner\"][i] = crabContract.functions.ownerOf(i).call()\n",
    "    \n",
    "    # status/heathcheck prints\n",
    "    if i==1:print(df.loc[i])\n",
    "    if i%1000==0:print(df.loc[i])"
   ]
  },
  {
   "cell_type": "code",
   "execution_count": 99,
   "id": "7dc27644",
   "metadata": {
    "ExecuteTime": {
     "end_time": "2021-12-13T07:40:37.341355Z",
     "start_time": "2021-12-13T07:40:37.333541Z"
    }
   },
   "outputs": [
    {
     "data": {
      "text/html": [
       "<div>\n",
       "<style scoped>\n",
       "    .dataframe tbody tr th:only-of-type {\n",
       "        vertical-align: middle;\n",
       "    }\n",
       "\n",
       "    .dataframe tbody tr th {\n",
       "        vertical-align: top;\n",
       "    }\n",
       "\n",
       "    .dataframe thead th {\n",
       "        text-align: right;\n",
       "    }\n",
       "</style>\n",
       "<table border=\"1\" class=\"dataframe\">\n",
       "  <thead>\n",
       "    <tr style=\"text-align: right;\">\n",
       "      <th></th>\n",
       "      <th>owner</th>\n",
       "    </tr>\n",
       "  </thead>\n",
       "  <tbody>\n",
       "    <tr>\n",
       "      <th>1</th>\n",
       "      <td>0xb95afB5318E340F3aFDF2ddE2D9c3Fc041C6aE2d</td>\n",
       "    </tr>\n",
       "    <tr>\n",
       "      <th>2</th>\n",
       "      <td>0xb95afB5318E340F3aFDF2ddE2D9c3Fc041C6aE2d</td>\n",
       "    </tr>\n",
       "    <tr>\n",
       "      <th>3</th>\n",
       "      <td>0xb95afB5318E340F3aFDF2ddE2D9c3Fc041C6aE2d</td>\n",
       "    </tr>\n",
       "    <tr>\n",
       "      <th>4</th>\n",
       "      <td>0xb95afB5318E340F3aFDF2ddE2D9c3Fc041C6aE2d</td>\n",
       "    </tr>\n",
       "    <tr>\n",
       "      <th>5</th>\n",
       "      <td>0xb95afB5318E340F3aFDF2ddE2D9c3Fc041C6aE2d</td>\n",
       "    </tr>\n",
       "  </tbody>\n",
       "</table>\n",
       "</div>"
      ],
      "text/plain": [
       "                                        owner\n",
       "1  0xb95afB5318E340F3aFDF2ddE2D9c3Fc041C6aE2d\n",
       "2  0xb95afB5318E340F3aFDF2ddE2D9c3Fc041C6aE2d\n",
       "3  0xb95afB5318E340F3aFDF2ddE2D9c3Fc041C6aE2d\n",
       "4  0xb95afB5318E340F3aFDF2ddE2D9c3Fc041C6aE2d\n",
       "5  0xb95afB5318E340F3aFDF2ddE2D9c3Fc041C6aE2d"
      ]
     },
     "execution_count": 99,
     "metadata": {},
     "output_type": "execute_result"
    }
   ],
   "source": [
    "df.head()"
   ]
  },
  {
   "cell_type": "code",
   "execution_count": 71,
   "id": "f764f8e4",
   "metadata": {
    "ExecuteTime": {
     "end_time": "2021-12-13T07:48:27.031464Z",
     "start_time": "2021-12-13T07:48:27.021386Z"
    }
   },
   "outputs": [],
   "source": [
    "# save owner set\n",
    "df.to_pickle(\"./data/raw/TokenToOwner.pkl\")"
   ]
  },
  {
   "cell_type": "code",
   "execution_count": 9,
   "id": "41013b43",
   "metadata": {},
   "outputs": [],
   "source": [
    "# reload\n",
    "df = pd.read_pickle(\"./data/raw/TokenToOwner.pkl\")"
   ]
  },
  {
   "cell_type": "code",
   "execution_count": 68,
   "id": "300dbe61",
   "metadata": {},
   "outputs": [
    {
     "data": {
      "text/plain": [
       "10773"
      ]
     },
     "execution_count": 68,
     "metadata": {},
     "output_type": "execute_result"
    }
   ],
   "source": [
    "# total supply\n",
    "crabContract.functions.totalSupply().call()"
   ]
  },
  {
   "cell_type": "code",
   "execution_count": 69,
   "id": "e73167a7",
   "metadata": {},
   "outputs": [
    {
     "data": {
      "application/vnd.jupyter.widget-view+json": {
       "model_id": "7f7363f07e844803af3fce59e0c8ee31",
       "version_major": 2,
       "version_minor": 0
      },
      "text/plain": [
       "  0%|          | 0/1 [00:00<?, ?it/s]"
      ]
     },
     "metadata": {},
     "output_type": "display_data"
    }
   ],
   "source": [
    "# Update owners df\n",
    "for i in tqdm(range(df.index[-1]+1, \n",
    "               crabContract.functions.totalSupply().call()+1)):\n",
    "    if i not in df.index:\n",
    "        try:\n",
    "            df = df.append(pd.DataFrame(index=[i], \n",
    "                                   columns=[\"owner\"],\n",
    "                                    data=[crabContract.functions.ownerOf(i).call()],\n",
    "                                  ))\n",
    "        except:\n",
    "            pass\n",
    "        "
   ]
  },
  {
   "cell_type": "markdown",
   "id": "587a2d63",
   "metadata": {
    "heading_collapsed": true
   },
   "source": [
    "## SnowTrace API Queries"
   ]
  },
  {
   "cell_type": "code",
   "execution_count": 42,
   "id": "82bab307",
   "metadata": {
    "ExecuteTime": {
     "end_time": "2021-12-07T08:44:04.762499Z",
     "start_time": "2021-12-07T08:44:04.758778Z"
    },
    "hidden": true
   },
   "outputs": [],
   "source": [
    "apikey = os.getenv(\"SNOWTRACE_API\")"
   ]
  },
  {
   "cell_type": "markdown",
   "id": "0b5d8dc1",
   "metadata": {
    "hidden": true
   },
   "source": [
    "### standard queries"
   ]
  },
  {
   "cell_type": "code",
   "execution_count": 75,
   "id": "80f5bfb9",
   "metadata": {
    "ExecuteTime": {
     "end_time": "2021-12-07T08:57:11.203070Z",
     "start_time": "2021-12-07T08:57:11.200118Z"
    },
    "hidden": true
   },
   "outputs": [],
   "source": [
    "q_balance = '''\n",
    "https://api.snowtrace.io/api?module=account&action=tokenbalance&contractaddress={contractaddress}&address={address}&tag=latest&apikey={apitoken}\n",
    "'''"
   ]
  },
  {
   "cell_type": "markdown",
   "id": "acfd85b6",
   "metadata": {
    "hidden": true
   },
   "source": [
    "### execute query"
   ]
  },
  {
   "cell_type": "code",
   "execution_count": 78,
   "id": "fee61713",
   "metadata": {
    "ExecuteTime": {
     "end_time": "2021-12-07T09:02:43.149596Z",
     "start_time": "2021-12-07T09:02:42.585028Z"
    },
    "hidden": true
   },
   "outputs": [
    {
     "data": {
      "text/plain": [
       "'372'"
      ]
     },
     "execution_count": 78,
     "metadata": {},
     "output_type": "execute_result"
    }
   ],
   "source": [
    "r = requests.get(q_balance\n",
    "                 .format(\n",
    "                        contractaddress=crabada,\n",
    "                        address=\"0x1fa283b8c14e2d33e699cce56bf32b7cb2db67d8\",\n",
    "                        apitoken=apikey\n",
    "                        )\n",
    "                )\n",
    "r.json()[\"result\"]"
   ]
  },
  {
   "cell_type": "markdown",
   "id": "991ac448",
   "metadata": {},
   "source": [
    "## Crab API Queries"
   ]
  },
  {
   "cell_type": "markdown",
   "id": "70ff9552",
   "metadata": {
    "heading_collapsed": true
   },
   "source": [
    "### NFT Token URIs"
   ]
  },
  {
   "cell_type": "code",
   "execution_count": 73,
   "id": "84260703",
   "metadata": {
    "hidden": true
   },
   "outputs": [
    {
     "data": {
      "text/plain": [
       "{'error_code': None,\n",
       " 'message': None,\n",
       " 'result': {'id': 7881,\n",
       "  'crabada_id': 7881,\n",
       "  'crabada_type': 1,\n",
       "  'type': 'NORMAL',\n",
       "  'is_origin': 0,\n",
       "  'is_genesis': 0,\n",
       "  'legend_number': 0,\n",
       "  'pure_number': 3,\n",
       "  'stage': 1,\n",
       "  'dna': '593660613765537134739987960249627792532746782530721184354561233824127341390',\n",
       "  'name': 'Crabada 7881',\n",
       "  'description': None,\n",
       "  'photo': '7881.png',\n",
       "  'atlas_photo': '7881-atlas.png',\n",
       "  'crabada_class': 6,\n",
       "  'class_id': 6,\n",
       "  'class_name': 'RUINED',\n",
       "  'crabada_subclass': 80,\n",
       "  'birthday': 1637528657,\n",
       "  'hp': 118,\n",
       "  'speed': 27,\n",
       "  'damage': 62,\n",
       "  'critical': 41,\n",
       "  'armor': 25,\n",
       "  'shell_id': 82,\n",
       "  'shell_class': 6,\n",
       "  'shell_name': 'S.Pharaoh',\n",
       "  'shell_photo': 'shell_82.png',\n",
       "  'horn_id': 83,\n",
       "  'horn_class': 6,\n",
       "  'horn_name': 'H.Crauldron',\n",
       "  'horn_photo': 'horn_83.png',\n",
       "  'body_id': 51,\n",
       "  'body_class': 4,\n",
       "  'body_name': 'B.Cropion',\n",
       "  'body_photo': 'body_51.png',\n",
       "  'mouth_id': 93,\n",
       "  'mouth_class': 7,\n",
       "  'mouth_name': 'M.Paraiba',\n",
       "  'mouth_photo': 'mouth_93.png',\n",
       "  'eyes_id': 91,\n",
       "  'eyes_class': 7,\n",
       "  'eyes_name': 'E.Pearlio',\n",
       "  'eyes_photo': 'eye_91.png',\n",
       "  'pincers_id': 83,\n",
       "  'pincers_class': 6,\n",
       "  'pincers_name': 'P.Crauldron',\n",
       "  'pincers_photo': 'pincer_83.png',\n",
       "  'price': None,\n",
       "  'order_id': None,\n",
       "  'order_time': None,\n",
       "  'owner': '0x82a85407bd612f52577909f4a58bfc6873f14da8',\n",
       "  'owner_full_name': None,\n",
       "  'owner_photo': None,\n",
       "  'owner_nft_avatar': None,\n",
       "  'breed_count': 2,\n",
       "  'created_at': '2021-11-21T21:04:23.377969',\n",
       "  'updated_at': '2021-12-17T03:54:44.521832',\n",
       "  'breeding_fee': {'CRA': 52.5, 'TUS': 12750},\n",
       "  'is_favorite': 0}}"
      ]
     },
     "execution_count": 73,
     "metadata": {},
     "output_type": "execute_result"
    }
   ],
   "source": [
    "# crabada api\n",
    "requests.get(\"https://api.crabada.com/public/crabada/info/\"+\"7881\").json()"
   ]
  },
  {
   "cell_type": "code",
   "execution_count": 74,
   "id": "e32f8182",
   "metadata": {
    "ExecuteTime": {
     "end_time": "2021-12-13T08:06:35.092956Z",
     "start_time": "2021-12-13T08:06:35.087345Z"
    },
    "hidden": true
   },
   "outputs": [
    {
     "data": {
      "text/plain": [
       "{'description': '593660613765537134739987960249627792532746782530721184354561233824127341390',\n",
       " 'external_url': 'https://marketplace.crabada.com/crabada/7881',\n",
       " 'image': 'https://photos.crabada.com/7881.png',\n",
       " 'name': 'Crabada 7881',\n",
       " 'attributes': [{'display_type': 'date',\n",
       "   'trait_type': 'birthday',\n",
       "   'value': 1637528657},\n",
       "  {'trait_type': 'class', 'value': 'RUINED'},\n",
       "  {'trait_type': 'pure', 'value': 3},\n",
       "  {'trait_type': 'legend', 'value': 0},\n",
       "  {'trait_type': 'origin', 'value': 0},\n",
       "  {'trait_type': 'genesis', 'value': 0},\n",
       "  {'trait_type': 'hp', 'value': 118},\n",
       "  {'trait_type': 'speed', 'value': 27},\n",
       "  {'trait_type': 'damage', 'value': 62},\n",
       "  {'trait_type': 'armor', 'value': 25},\n",
       "  {'trait_type': 'critical', 'value': 41}]}"
      ]
     },
     "execution_count": 74,
     "metadata": {},
     "output_type": "execute_result"
    }
   ],
   "source": [
    "# contract tokenURI api\n",
    "requests.get(\"https://api.crabada.com/public/crabada/info-json/\"+\"7881\").json()"
   ]
  },
  {
   "cell_type": "code",
   "execution_count": 128,
   "id": "2ea48d54",
   "metadata": {
    "ExecuteTime": {
     "end_time": "2021-12-13T08:25:53.457944Z",
     "start_time": "2021-12-13T08:13:10.799834Z"
    },
    "collapsed": true,
    "hidden": true
   },
   "outputs": [
    {
     "data": {
      "application/vnd.jupyter.widget-view+json": {
       "model_id": "27da73a369fa49a49cf96b93ba97ba09",
       "version_major": 2,
       "version_minor": 0
      },
      "text/plain": [
       "  0%|          | 0/10003 [00:00<?, ?it/s]"
      ]
     },
     "metadata": {},
     "output_type": "display_data"
    },
    {
     "name": "stdout",
     "output_type": "stream",
     "text": [
      "data    {'description': '90639254423131116107623161788...\n",
      "Name: 1, dtype: object\n",
      "data    {'description': '65019971983844543328665348027...\n",
      "Name: 1000, dtype: object\n",
      "data    {'description': '64313233157933189596832029027...\n",
      "Name: 2000, dtype: object\n",
      "data    {'description': '53535466062785045186373914272...\n",
      "Name: 3000, dtype: object\n",
      "data    {'description': '54242204888696398918207233272...\n",
      "Name: 4000, dtype: object\n",
      "data    {'description': '57069160192341813845540509273...\n",
      "Name: 5000, dtype: object\n",
      "data    {'description': '51591934291528822423832287021...\n",
      "Name: 6000, dtype: object\n",
      "data    {'description': '54065520182218560485248903522...\n",
      "Name: 7000, dtype: object\n",
      "data    {'description': '54065520182218560485248903522...\n",
      "Name: 8000, dtype: object\n",
      "data    {'description': '59896115495987228772873785275...\n",
      "Name: 9000, dtype: object\n",
      "data    {'description': None, 'external_url': 'https:/...\n",
      "Name: 10000, dtype: object\n"
     ]
    }
   ],
   "source": [
    "dfURI = pd.DataFrame(index=range(1, df.size+1), columns=[\"data\"])\n",
    "\n",
    "for i in tqdm(dfURI.index):\n",
    "    dfURI[\"data\"][i]= requests.get(\"https://api.crabada.com/public/crabada/info-json/\"+str(i)).json()\n",
    "    \n",
    "    # status/heathcheck prints\n",
    "    if i==1:print(dfURI.loc[i])\n",
    "    if i%1000==0:print(dfURI.loc[i])"
   ]
  },
  {
   "cell_type": "code",
   "execution_count": 23,
   "id": "c0e61895",
   "metadata": {
    "hidden": true
   },
   "outputs": [],
   "source": [
    "# Expand dictionary of \"data\" into columns\n",
    "dfURI[\"attributes\"] =dfURI[\"data\"].apply(lambda x: x[\"attributes\"])\n",
    "dfURI = pd.concat([dfURI, dfURI[\"data\"].apply(pd.Series).drop([\"attributes\"], axis=1)], axis=1)"
   ]
  },
  {
   "cell_type": "code",
   "execution_count": 33,
   "id": "69fd7058",
   "metadata": {
    "hidden": true
   },
   "outputs": [],
   "source": [
    "# create function to extract traits from attributes\n",
    "def extract_attr(a):\n",
    "    traits = dict()\n",
    "    for d in a:\n",
    "        traits.update({d[\"trait_type\"]: d[\"value\"]})\n",
    "    return traits"
   ]
  },
  {
   "cell_type": "code",
   "execution_count": 34,
   "id": "d773d1aa",
   "metadata": {
    "hidden": true
   },
   "outputs": [],
   "source": [
    "# extract then concat traits\n",
    "dfURI[\"traits\"] = dfURI[\"attributes\"].apply(lambda x: extract_attr(x))\n",
    "dfURI = pd.concat([dfURI, dfURI[\"traits\"].apply(pd.Series)], axis=1)\n",
    "\n",
    "# some are without stats and traits yet\n",
    "#dfURI[dfURI[\"class\"].isna()]"
   ]
  },
  {
   "cell_type": "code",
   "execution_count": 44,
   "id": "3e08e8e8",
   "metadata": {
    "ExecuteTime": {
     "end_time": "2021-12-13T08:29:49.588370Z",
     "start_time": "2021-12-13T08:29:49.389824Z"
    },
    "hidden": true
   },
   "outputs": [],
   "source": [
    "dfURI.to_pickle(\"./data/raw/tokenMeta.pkl\")"
   ]
  },
  {
   "cell_type": "markdown",
   "id": "fa7fb127",
   "metadata": {},
   "source": [
    "### Get NFT Crab Data via Crabada Specified API (most advisable)"
   ]
  },
  {
   "cell_type": "code",
   "execution_count": 25,
   "id": "9924cd04",
   "metadata": {},
   "outputs": [],
   "source": [
    "dfCrabData = pd.DataFrame(columns=[\"data\"])"
   ]
  },
  {
   "cell_type": "code",
   "execution_count": 26,
   "id": "461faed0",
   "metadata": {},
   "outputs": [
    {
     "data": {
      "application/vnd.jupyter.widget-view+json": {
       "model_id": "0f4f8560064249caa40f9bcfd2ba529b",
       "version_major": 2,
       "version_minor": 0
      },
      "text/plain": [
       "  0%|          | 0/10772 [00:00<?, ?it/s]"
      ]
     },
     "metadata": {},
     "output_type": "display_data"
    }
   ],
   "source": [
    "# Update owners df\n",
    "try: \n",
    "    startindex = dfCrabData.index[-1]\n",
    "except:\n",
    "    startindex = 0\n",
    "    \n",
    "for i in tqdm(range(startindex+1, crabContract.functions.totalSupply().call()+1)):\n",
    "    if i not in dfCrabData.index:\n",
    "        try:\n",
    "            dfCrabData = dfCrabData.append(pd.DataFrame(index=[i], \n",
    "                                   columns=[\"data\"],\n",
    "                                    data=[[requests.get(\"https://api.crabada.com/public/crabada/info/\"+str(i)).json()]],\n",
    "                                  ))\n",
    "        except:\n",
    "            pass"
   ]
  },
  {
   "cell_type": "code",
   "execution_count": 45,
   "id": "833c75c8",
   "metadata": {},
   "outputs": [],
   "source": [
    "dfCrabData.to_pickle(\"./data/raw/crabAPIdata.pkl\")"
   ]
  }
 ],
 "metadata": {
  "kernelspec": {
   "display_name": "Python 3 (ipykernel)",
   "language": "python",
   "name": "python3"
  },
  "language_info": {
   "codemirror_mode": {
    "name": "ipython",
    "version": 3
   },
   "file_extension": ".py",
   "mimetype": "text/x-python",
   "name": "python",
   "nbconvert_exporter": "python",
   "pygments_lexer": "ipython3",
   "version": "3.9.7"
  }
 },
 "nbformat": 4,
 "nbformat_minor": 5
}
