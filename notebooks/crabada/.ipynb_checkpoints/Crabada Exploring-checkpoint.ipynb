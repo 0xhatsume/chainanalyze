{
 "cells": [
  {
   "cell_type": "markdown",
   "id": "8dedc7ce",
   "metadata": {},
   "source": [
    "## Addresses"
   ]
  },
  {
   "cell_type": "markdown",
   "id": "f9e06781",
   "metadata": {},
   "source": [
    "**ERC20**  \n",
    "CRA: 0xa32608e873f9ddef944b24798db69d80bbb4d1ed  \n",
    "TUS: 0xf693248f96fe03422fea95ac0afbbbc4a8fdd172  \n",
    "  \n",
    "**Game Contracts**  \n",
    "Crabada Marketplace: 0x7E8DEef5bb861cF158d8BdaAa1c31f7B49922F49  \n",
    "Crabada Game: 0x82a85407BD612f52577909F4A58bfC6873f14DA8  "
   ]
  },
  {
   "cell_type": "markdown",
   "id": "294cde04",
   "metadata": {},
   "source": [
    "## Notes"
   ]
  },
  {
   "cell_type": "markdown",
   "id": "daf24599",
   "metadata": {},
   "source": [
    "- top holders queries\n",
    "- function signatures"
   ]
  },
  {
   "cell_type": "markdown",
   "id": "991ac448",
   "metadata": {},
   "source": [
    "## Queries"
   ]
  },
  {
   "cell_type": "code",
   "execution_count": null,
   "id": "142d576c",
   "metadata": {},
   "outputs": [],
   "source": []
  }
 ],
 "metadata": {
  "kernelspec": {
   "display_name": "Python 3 (ipykernel)",
   "language": "python",
   "name": "python3"
  },
  "language_info": {
   "codemirror_mode": {
    "name": "ipython",
    "version": 3
   },
   "file_extension": ".py",
   "mimetype": "text/x-python",
   "name": "python",
   "nbconvert_exporter": "python",
   "pygments_lexer": "ipython3",
   "version": "3.9.7"
  }
 },
 "nbformat": 4,
 "nbformat_minor": 5
}
