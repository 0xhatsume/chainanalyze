{
 "cells": [
  {
   "cell_type": "markdown",
   "id": "8dedc7ce",
   "metadata": {
    "heading_collapsed": true
   },
   "source": [
    "## Addresses"
   ]
  },
  {
   "cell_type": "markdown",
   "id": "f9e06781",
   "metadata": {
    "hidden": true
   },
   "source": [
    "**ERC20**  \n",
    "CRA: 0xa32608e873f9ddef944b24798db69d80bbb4d1ed  \n",
    "TUS: 0xf693248f96fe03422fea95ac0afbbbc4a8fdd172  \n",
    "  \n",
    "**Game Contracts**  \n",
    "Crabada: 0x1b7966315ef0259de890f38f1bdb95acc03cacdd  \n",
    "Crabada Marketplace: 0x7E8DEef5bb861cF158d8BdaAa1c31f7B49922F49  \n",
    "Crabada Game: 0x82a85407BD612f52577909F4A58bfC6873f14DA8  "
   ]
  },
  {
   "cell_type": "markdown",
   "id": "294cde04",
   "metadata": {},
   "source": [
    "## Notes"
   ]
  },
  {
   "cell_type": "markdown",
   "id": "daf24599",
   "metadata": {},
   "source": [
    "- crabada resources: https://github.com/crabada-resources  \n",
    "- [API docs](https://docs.crabada.com/resources/api)\n",
    "- API endpoint: https://api.crabada.com/public/crabada/info/<crabID>\n",
    "- [API for Crab Search](https://api.crabada.com/public/crabada/selling?limit=2000&stage=1&orderBy=price&order=asc)\n",
    "\n",
    "**Questions**  \n",
    "- crabada contract erc720? erc1155?\n",
    "- top holders queries\n",
    "- function signatures\n",
    "    \n",
    "**Some Refs**\n",
    "- [4byte directory](https://www.4byte.directory/)\n",
    "- [common signatures](https://github.com/ethereum-lists/4bytes/tree/master/signatures)"
   ]
  },
  {
   "cell_type": "markdown",
   "id": "72d4f238",
   "metadata": {},
   "source": [
    "## Libraries"
   ]
  },
  {
   "cell_type": "code",
   "execution_count": 3,
   "id": "985e5b72",
   "metadata": {
    "ExecuteTime": {
     "end_time": "2021-12-07T07:52:25.352503Z",
     "start_time": "2021-12-07T07:52:24.971900Z"
    }
   },
   "outputs": [],
   "source": [
    "from web3 import Web3\n",
    "from web3.middleware import geth_poa_middleware"
   ]
  },
  {
   "cell_type": "code",
   "execution_count": 28,
   "id": "28db067e",
   "metadata": {
    "ExecuteTime": {
     "end_time": "2021-12-07T08:29:26.359887Z",
     "start_time": "2021-12-07T08:29:26.356695Z"
    }
   },
   "outputs": [],
   "source": [
    "import os\n",
    "from dotenv import load_dotenv, find_dotenv"
   ]
  },
  {
   "cell_type": "code",
   "execution_count": 4,
   "id": "e67bcfea",
   "metadata": {
    "ExecuteTime": {
     "end_time": "2021-12-07T07:52:25.358326Z",
     "start_time": "2021-12-07T07:52:25.354865Z"
    }
   },
   "outputs": [],
   "source": [
    "import requests"
   ]
  },
  {
   "cell_type": "markdown",
   "id": "dec968d2",
   "metadata": {},
   "source": [
    "## Inits"
   ]
  },
  {
   "cell_type": "markdown",
   "id": "17033fde",
   "metadata": {},
   "source": [
    "### envs"
   ]
  },
  {
   "cell_type": "code",
   "execution_count": 27,
   "id": "19474eea",
   "metadata": {
    "ExecuteTime": {
     "end_time": "2021-12-07T08:28:48.288755Z",
     "start_time": "2021-12-07T08:28:48.280330Z"
    }
   },
   "outputs": [
    {
     "data": {
      "text/plain": [
       "True"
      ]
     },
     "execution_count": 27,
     "metadata": {},
     "output_type": "execute_result"
    }
   ],
   "source": [
    "load_dotenv(find_dotenv())"
   ]
  },
  {
   "cell_type": "markdown",
   "id": "23059c18",
   "metadata": {},
   "source": [
    "### Web3"
   ]
  },
  {
   "cell_type": "code",
   "execution_count": 10,
   "id": "5b3c5860",
   "metadata": {
    "ExecuteTime": {
     "end_time": "2021-12-07T07:54:25.008645Z",
     "start_time": "2021-12-07T07:54:24.760738Z"
    }
   },
   "outputs": [
    {
     "data": {
      "text/plain": [
       "True"
      ]
     },
     "execution_count": 10,
     "metadata": {},
     "output_type": "execute_result"
    }
   ],
   "source": [
    "web3 = Web3(Web3.HTTPProvider(\"https://api.avax.network/ext/bc/C/rpc\"))\n",
    "web3.middleware_onion.inject(geth_poa_middleware, layer=0)\n",
    "web3.isConnected()"
   ]
  },
  {
   "cell_type": "markdown",
   "id": "fc8d6e08",
   "metadata": {},
   "source": [
    "### Addresses"
   ]
  },
  {
   "cell_type": "code",
   "execution_count": 6,
   "id": "9dbfb61b",
   "metadata": {
    "ExecuteTime": {
     "end_time": "2021-12-07T07:52:31.037847Z",
     "start_time": "2021-12-07T07:52:31.035081Z"
    }
   },
   "outputs": [],
   "source": [
    "cra = \"0xa32608e873f9ddef944b24798db69d80bbb4d1ed\"\n",
    "tus = \"0xf693248f96fe03422fea95ac0afbbbc4a8fdd172\"\n",
    "crabada=\"0x1b7966315ef0259de890f38f1bdb95acc03cacdd\"\n",
    "marketplace=\"0x7E8DEef5bb861cF158d8BdaAa1c31f7B49922F49\"\n",
    "game=\"0x82a85407BD612f52577909F4A58bfC6873f14DA8\""
   ]
  },
  {
   "cell_type": "markdown",
   "id": "18e3822d",
   "metadata": {},
   "source": [
    "## Function Methods"
   ]
  },
  {
   "cell_type": "markdown",
   "id": "33d9dbd6",
   "metadata": {},
   "source": [
    "### Crabada: 0x1b7966315ef0259de890f38f1bdb95acc03cacdd"
   ]
  },
  {
   "cell_type": "markdown",
   "id": "0016b174",
   "metadata": {},
   "source": [
    "- 0x1a46e42a: cancelSellOrder(uint256)\n",
    "- 0xb88d4fde: safeTransferFrom(address,address,uint256,bytes)\n",
    "- 0x598b8e71: deposit(uint256[] amounts)\n",
    "- 0xc70f5eaa: buyCard(uint256)\n",
    "- 0xd9ecad7b: breed(uint256,uint256)\n",
    "- 0x8293744b: "
   ]
  },
  {
   "cell_type": "markdown",
   "id": "1de7700e",
   "metadata": {},
   "source": [
    "## Web3 Queries"
   ]
  },
  {
   "cell_type": "markdown",
   "id": "169d1275",
   "metadata": {},
   "source": [
    "### abis"
   ]
  },
  {
   "cell_type": "code",
   "execution_count": null,
   "id": "0dfdb6fa",
   "metadata": {},
   "outputs": [],
   "source": []
  },
  {
   "cell_type": "markdown",
   "id": "57f0b3fe",
   "metadata": {},
   "source": [
    "### contract calls"
   ]
  },
  {
   "cell_type": "code",
   "execution_count": null,
   "id": "a2ac7d47",
   "metadata": {},
   "outputs": [],
   "source": []
  },
  {
   "cell_type": "markdown",
   "id": "587a2d63",
   "metadata": {
    "heading_collapsed": true
   },
   "source": [
    "## SnowTrace API Queries"
   ]
  },
  {
   "cell_type": "code",
   "execution_count": 42,
   "id": "82bab307",
   "metadata": {
    "ExecuteTime": {
     "end_time": "2021-12-07T08:44:04.762499Z",
     "start_time": "2021-12-07T08:44:04.758778Z"
    },
    "hidden": true
   },
   "outputs": [],
   "source": [
    "apikey = os.getenv(\"SNOWTRACE_API\")"
   ]
  },
  {
   "cell_type": "markdown",
   "id": "0b5d8dc1",
   "metadata": {
    "hidden": true
   },
   "source": [
    "### standard queries"
   ]
  },
  {
   "cell_type": "code",
   "execution_count": 75,
   "id": "80f5bfb9",
   "metadata": {
    "ExecuteTime": {
     "end_time": "2021-12-07T08:57:11.203070Z",
     "start_time": "2021-12-07T08:57:11.200118Z"
    },
    "hidden": true
   },
   "outputs": [],
   "source": [
    "q_balance = '''\n",
    "https://api.snowtrace.io/api?module=account&action=tokenbalance&contractaddress={contractaddress}&address={address}&tag=latest&apikey={apitoken}\n",
    "'''"
   ]
  },
  {
   "cell_type": "markdown",
   "id": "acfd85b6",
   "metadata": {
    "hidden": true
   },
   "source": [
    "### execute query"
   ]
  },
  {
   "cell_type": "code",
   "execution_count": 78,
   "id": "fee61713",
   "metadata": {
    "ExecuteTime": {
     "end_time": "2021-12-07T09:02:43.149596Z",
     "start_time": "2021-12-07T09:02:42.585028Z"
    },
    "hidden": true
   },
   "outputs": [
    {
     "data": {
      "text/plain": [
       "'372'"
      ]
     },
     "execution_count": 78,
     "metadata": {},
     "output_type": "execute_result"
    }
   ],
   "source": [
    "r = requests.get(q_balance\n",
    "                 .format(\n",
    "                        contractaddress=crabada,\n",
    "                        address=\"0x1fa283b8c14e2d33e699cce56bf32b7cb2db67d8\",\n",
    "                        apitoken=apikey\n",
    "                        )\n",
    "                )\n",
    "r.json()[\"result\"]"
   ]
  },
  {
   "cell_type": "markdown",
   "id": "991ac448",
   "metadata": {},
   "source": [
    "## Crab API Queries"
   ]
  }
 ],
 "metadata": {
  "kernelspec": {
   "display_name": "Python 3 (ipykernel)",
   "language": "python",
   "name": "python3"
  },
  "language_info": {
   "codemirror_mode": {
    "name": "ipython",
    "version": 3
   },
   "file_extension": ".py",
   "mimetype": "text/x-python",
   "name": "python",
   "nbconvert_exporter": "python",
   "pygments_lexer": "ipython3",
   "version": "3.9.7"
  }
 },
 "nbformat": 4,
 "nbformat_minor": 5
}
